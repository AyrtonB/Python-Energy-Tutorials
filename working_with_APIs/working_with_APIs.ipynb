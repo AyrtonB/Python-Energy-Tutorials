{
 "cells": [
  {
   "cell_type": "markdown",
   "metadata": {},
   "source": [
    "# Using the Elexon API\n",
    "\n",
    "\"ELEXON is a not-for-profit company created to fulfil the role of the Balancing and Settlement Code Company.  It procures and provides services to administer and implement the balancing and settlement rules that enable and support the wholesale market in electricity.\"\n",
    "\n",
    "Elexon handles the UK wholesale electricity market, as part of their role they provide a range of data streams about the grid. In this part of the tutorial we'll look at the data stream relating to the output of individual generators.\n",
    "\n",
    "<br>\n",
    "\n",
    "The BMRS API Guide can be found <a href=\"https://www.elexon.co.uk/documents/training-guidance/bsc-guidance-notes/bmrs-api-and-data-push-user-guide-2/\">here</a>.\n",
    "\n",
    "You can register to recieve your API key <a href=\"https://www.elexonportal.co.uk/registration/newuser\">here</a>.\n",
    "\n",
    "<br>\n",
    "\n",
    "### Imports"
   ]
  },
  {
   "cell_type": "code",
   "execution_count": 1,
   "metadata": {},
   "outputs": [],
   "source": [
    "import pandas as pd\n",
    "import numpy as np\n",
    "\n",
    "import requests\n",
    "import json\n",
    "import xmltodict\n",
    "\n",
    "from datetime import datetime, date\n",
    "\n",
    "import matplotlib.pyplot as plt\n",
    "#from mpl_toolkits.basemap import Basemap"
   ]
  },
  {
   "cell_type": "markdown",
   "metadata": {},
   "source": [
    "<br>\n",
    "\n",
    "### Constructing the URL\n",
    "\n",
    "We'll use f-strings (formatted strings) to input the values of parameters in the URL."
   ]
  },
  {
   "cell_type": "code",
   "execution_count": 2,
   "metadata": {},
   "outputs": [
    {
     "data": {
      "text/plain": [
       "'Month: 3'"
      ]
     },
     "execution_count": 2,
     "metadata": {},
     "output_type": "execute_result"
    }
   ],
   "source": [
    "month = 3\n",
    "f'Month: {month}'"
   ]
  },
  {
   "cell_type": "code",
   "execution_count": 3,
   "metadata": {},
   "outputs": [
    {
     "name": "stdout",
     "output_type": "stream",
     "text": [
      "APIKey: bcz568ze0fnmog3\n",
      "SettlementDate: 2018-12-31\n",
      "Period: 1\n",
      "NGCBMUnitID: *\n",
      "ServiceType: xml\n"
     ]
    }
   ],
   "source": [
    "api_key = 'bcz568ze0fnmog3'\n",
    "query_date = '2018-12-31'\n",
    "SP = 1\n",
    "unit_id = '*'\n",
    "\n",
    "query_args = {\n",
    "    'APIKey' : f'{api_key}', \n",
    "    'SettlementDate' : f'{query_date}',\n",
    "    'Period' : f'{SP}',\n",
    "    'NGCBMUnitID' : f'{unit_id}',\n",
    "    'ServiceType' : 'xml'\n",
    "}\n",
    "\n",
    "for key in query_args.keys():\n",
    "    print(f'{key}: {query_args[key]}')"
   ]
  },
  {
   "cell_type": "code",
   "execution_count": 4,
   "metadata": {},
   "outputs": [
    {
     "data": {
      "text/plain": [
       "'https://api.bmreports.com/BMRS/B1610/v1?APIKey=bcz568ze0fnmog3&SettlementDate=2018-12-31&Period=1&NGCBMUnitID=*&ServiceType=xml'"
      ]
     },
     "execution_count": 4,
     "metadata": {},
     "output_type": "execute_result"
    }
   ],
   "source": [
    "url_str = 'https://api.bmreports.com/BMRS/B1610/v1?'\n",
    "\n",
    "for key in query_args.keys():\n",
    "    url_str += f'{key}={query_args[key]}&'\n",
    "    \n",
    "url_str[:-1]"
   ]
  },
  {
   "cell_type": "markdown",
   "metadata": {},
   "source": [
    "<br>\n",
    "\n",
    "### Making the Request and Parsing the Response"
   ]
  },
  {
   "cell_type": "code",
   "execution_count": 5,
   "metadata": {},
   "outputs": [],
   "source": [
    "response = requests.get(url_str[:-1])\n",
    "#response.text"
   ]
  },
  {
   "cell_type": "code",
   "execution_count": 6,
   "metadata": {},
   "outputs": [],
   "source": [
    "r_dict = xmltodict.parse(response.text)['response']['responseBody']['responseList']['item']\n",
    "#r_dict"
   ]
  },
  {
   "cell_type": "code",
   "execution_count": 7,
   "metadata": {},
   "outputs": [
    {
     "data": {
      "text/html": [
       "<div>\n",
       "<style scoped>\n",
       "    .dataframe tbody tr th:only-of-type {\n",
       "        vertical-align: middle;\n",
       "    }\n",
       "\n",
       "    .dataframe tbody tr th {\n",
       "        vertical-align: top;\n",
       "    }\n",
       "\n",
       "    .dataframe thead th {\n",
       "        text-align: right;\n",
       "    }\n",
       "</style>\n",
       "<table border=\"1\" class=\"dataframe\">\n",
       "  <thead>\n",
       "    <tr style=\"text-align: right;\">\n",
       "      <th></th>\n",
       "      <th>documentType</th>\n",
       "      <th>businessType</th>\n",
       "      <th>processType</th>\n",
       "      <th>timeSeriesID</th>\n",
       "      <th>quantity</th>\n",
       "      <th>curveType</th>\n",
       "      <th>resolution</th>\n",
       "      <th>settlementDate</th>\n",
       "      <th>settlementPeriod</th>\n",
       "      <th>powerSystemResourceType</th>\n",
       "      <th>registeredResourceEICCode</th>\n",
       "      <th>marketGenerationUnitEICCode</th>\n",
       "      <th>marketGenerationBMUId</th>\n",
       "      <th>marketGenerationNGCBMUId</th>\n",
       "      <th>bMUnitID</th>\n",
       "      <th>nGCBMUnitID</th>\n",
       "      <th>activeFlag</th>\n",
       "      <th>documentID</th>\n",
       "      <th>documentRevNum</th>\n",
       "    </tr>\n",
       "  </thead>\n",
       "  <tbody>\n",
       "    <tr>\n",
       "      <th>0</th>\n",
       "      <td>Actual generation</td>\n",
       "      <td>Production</td>\n",
       "      <td>Realised</td>\n",
       "      <td>ELX-EMFIP-AGOG-TS-274</td>\n",
       "      <td>103.42</td>\n",
       "      <td>Sequential fixed size block</td>\n",
       "      <td>PT30M</td>\n",
       "      <td>2018-12-31</td>\n",
       "      <td>1</td>\n",
       "      <td>Generation</td>\n",
       "      <td>48W0000GYMRO-17K</td>\n",
       "      <td>48W0000GYMRO-17K</td>\n",
       "      <td>T_GYMR-17</td>\n",
       "      <td>GYMRO-17</td>\n",
       "      <td>T_GYMR-17</td>\n",
       "      <td>GYMRO-17</td>\n",
       "      <td>Y</td>\n",
       "      <td>ELX-EMFIP-AGOG-20086758</td>\n",
       "      <td>1</td>\n",
       "    </tr>\n",
       "    <tr>\n",
       "      <th>1</th>\n",
       "      <td>Actual generation</td>\n",
       "      <td>Production</td>\n",
       "      <td>Realised</td>\n",
       "      <td>ELX-EMFIP-AGOG-TS-275</td>\n",
       "      <td>116.36</td>\n",
       "      <td>Sequential fixed size block</td>\n",
       "      <td>PT30M</td>\n",
       "      <td>2018-12-31</td>\n",
       "      <td>1</td>\n",
       "      <td>Generation</td>\n",
       "      <td>48W0000GYMRO-26J</td>\n",
       "      <td>48W0000GYMRO-26J</td>\n",
       "      <td>T_GYMR-26</td>\n",
       "      <td>GYMRO-26</td>\n",
       "      <td>T_GYMR-26</td>\n",
       "      <td>GYMRO-26</td>\n",
       "      <td>Y</td>\n",
       "      <td>ELX-EMFIP-AGOG-20086758</td>\n",
       "      <td>1</td>\n",
       "    </tr>\n",
       "    <tr>\n",
       "      <th>2</th>\n",
       "      <td>Actual generation</td>\n",
       "      <td>Production</td>\n",
       "      <td>Realised</td>\n",
       "      <td>ELX-EMFIP-AGOG-TS-276</td>\n",
       "      <td>121.56</td>\n",
       "      <td>Sequential fixed size block</td>\n",
       "      <td>PT30M</td>\n",
       "      <td>2018-12-31</td>\n",
       "      <td>1</td>\n",
       "      <td>Generation</td>\n",
       "      <td>48W0000GYMRO-28F</td>\n",
       "      <td>48W0000GYMRO-28F</td>\n",
       "      <td>T_GYMR-28</td>\n",
       "      <td>GYMRO-28</td>\n",
       "      <td>T_GYMR-28</td>\n",
       "      <td>GYMRO-28</td>\n",
       "      <td>Y</td>\n",
       "      <td>ELX-EMFIP-AGOG-20086758</td>\n",
       "      <td>1</td>\n",
       "    </tr>\n",
       "    <tr>\n",
       "      <th>3</th>\n",
       "      <td>Actual generation</td>\n",
       "      <td>Production</td>\n",
       "      <td>Realised</td>\n",
       "      <td>ELX-EMFIP-AGOG-TS-183</td>\n",
       "      <td>128.54</td>\n",
       "      <td>Sequential fixed size block</td>\n",
       "      <td>PT30M</td>\n",
       "      <td>2018-12-31</td>\n",
       "      <td>1</td>\n",
       "      <td>Generation</td>\n",
       "      <td>48W00000LNMTH-1R</td>\n",
       "      <td>48W00000LNMTH-1R</td>\n",
       "      <td>E_LYNE1</td>\n",
       "      <td>LNMTH-1</td>\n",
       "      <td>E_LYNE1</td>\n",
       "      <td>LNMTH-1</td>\n",
       "      <td>Y</td>\n",
       "      <td>ELX-EMFIP-AGOG-20086758</td>\n",
       "      <td>1</td>\n",
       "    </tr>\n",
       "    <tr>\n",
       "      <th>4</th>\n",
       "      <td>Actual generation</td>\n",
       "      <td>Production</td>\n",
       "      <td>Realised</td>\n",
       "      <td>ELX-EMFIP-AGOG-TS-184</td>\n",
       "      <td>125.34</td>\n",
       "      <td>Sequential fixed size block</td>\n",
       "      <td>PT30M</td>\n",
       "      <td>2018-12-31</td>\n",
       "      <td>1</td>\n",
       "      <td>Generation</td>\n",
       "      <td>48W00000LNMTH-2P</td>\n",
       "      <td>48W00000LNMTH-2P</td>\n",
       "      <td>E_LYNE2</td>\n",
       "      <td>LNMTH-2</td>\n",
       "      <td>E_LYNE2</td>\n",
       "      <td>LNMTH-2</td>\n",
       "      <td>Y</td>\n",
       "      <td>ELX-EMFIP-AGOG-20086758</td>\n",
       "      <td>1</td>\n",
       "    </tr>\n",
       "  </tbody>\n",
       "</table>\n",
       "</div>"
      ],
      "text/plain": [
       "        documentType businessType processType           timeSeriesID quantity  \\\n",
       "0  Actual generation   Production    Realised  ELX-EMFIP-AGOG-TS-274   103.42   \n",
       "1  Actual generation   Production    Realised  ELX-EMFIP-AGOG-TS-275   116.36   \n",
       "2  Actual generation   Production    Realised  ELX-EMFIP-AGOG-TS-276   121.56   \n",
       "3  Actual generation   Production    Realised  ELX-EMFIP-AGOG-TS-183   128.54   \n",
       "4  Actual generation   Production    Realised  ELX-EMFIP-AGOG-TS-184   125.34   \n",
       "\n",
       "                     curveType resolution settlementDate settlementPeriod  \\\n",
       "0  Sequential fixed size block      PT30M     2018-12-31                1   \n",
       "1  Sequential fixed size block      PT30M     2018-12-31                1   \n",
       "2  Sequential fixed size block      PT30M     2018-12-31                1   \n",
       "3  Sequential fixed size block      PT30M     2018-12-31                1   \n",
       "4  Sequential fixed size block      PT30M     2018-12-31                1   \n",
       "\n",
       "  powerSystemResourceType registeredResourceEICCode  \\\n",
       "0              Generation          48W0000GYMRO-17K   \n",
       "1              Generation          48W0000GYMRO-26J   \n",
       "2              Generation          48W0000GYMRO-28F   \n",
       "3              Generation          48W00000LNMTH-1R   \n",
       "4              Generation          48W00000LNMTH-2P   \n",
       "\n",
       "  marketGenerationUnitEICCode marketGenerationBMUId marketGenerationNGCBMUId  \\\n",
       "0            48W0000GYMRO-17K             T_GYMR-17                 GYMRO-17   \n",
       "1            48W0000GYMRO-26J             T_GYMR-26                 GYMRO-26   \n",
       "2            48W0000GYMRO-28F             T_GYMR-28                 GYMRO-28   \n",
       "3            48W00000LNMTH-1R               E_LYNE1                  LNMTH-1   \n",
       "4            48W00000LNMTH-2P               E_LYNE2                  LNMTH-2   \n",
       "\n",
       "    bMUnitID nGCBMUnitID activeFlag               documentID documentRevNum  \n",
       "0  T_GYMR-17    GYMRO-17          Y  ELX-EMFIP-AGOG-20086758              1  \n",
       "1  T_GYMR-26    GYMRO-26          Y  ELX-EMFIP-AGOG-20086758              1  \n",
       "2  T_GYMR-28    GYMRO-28          Y  ELX-EMFIP-AGOG-20086758              1  \n",
       "3    E_LYNE1     LNMTH-1          Y  ELX-EMFIP-AGOG-20086758              1  \n",
       "4    E_LYNE2     LNMTH-2          Y  ELX-EMFIP-AGOG-20086758              1  "
      ]
     },
     "execution_count": 7,
     "metadata": {},
     "output_type": "execute_result"
    }
   ],
   "source": [
    "df = pd.DataFrame(r_dict)\n",
    "df.head()"
   ]
  },
  {
   "cell_type": "markdown",
   "metadata": {},
   "source": [
    "<br>\n",
    "\n",
    "### Creating List of Dates to Iterate Over\n",
    "\n",
    "Python has a module which makes it easier to construct and extract information from datetimes"
   ]
  },
  {
   "cell_type": "code",
   "execution_count": 8,
   "metadata": {},
   "outputs": [
    {
     "data": {
      "text/plain": [
       "datetime.date(2019, 4, 7)"
      ]
     },
     "execution_count": 8,
     "metadata": {},
     "output_type": "execute_result"
    }
   ],
   "source": [
    "query_date = date(2019, 4, 7)\n",
    "query_date"
   ]
  },
  {
   "cell_type": "code",
   "execution_count": 9,
   "metadata": {},
   "outputs": [
    {
     "data": {
      "text/plain": [
       "6"
      ]
     },
     "execution_count": 9,
     "metadata": {},
     "output_type": "execute_result"
    }
   ],
   "source": [
    "query_date.weekday() # For .weekday() Monday is 0 and Sunday is 6"
   ]
  },
  {
   "cell_type": "markdown",
   "metadata": {},
   "source": [
    "<br>\n",
    "\n",
    "We can also use the datetime module to construct strings for us\n",
    "\n",
    "<a href=\"https://www.programiz.com/python-programming/datetime/strftime#format-code\">String formatting codes</a>"
   ]
  },
  {
   "cell_type": "code",
   "execution_count": 10,
   "metadata": {},
   "outputs": [
    {
     "data": {
      "text/plain": [
       "'Sunday 07 April'"
      ]
     },
     "execution_count": 10,
     "metadata": {},
     "output_type": "execute_result"
    }
   ],
   "source": [
    "datetime.strftime(query_date, '%A %d %B')"
   ]
  },
  {
   "cell_type": "code",
   "execution_count": 11,
   "metadata": {},
   "outputs": [
    {
     "data": {
      "text/plain": [
       "'2019-04-07'"
      ]
     },
     "execution_count": 11,
     "metadata": {},
     "output_type": "execute_result"
    }
   ],
   "source": [
    "date_string = datetime.strftime(query_date, '%Y-%m-%d')\n",
    "date_string"
   ]
  },
  {
   "cell_type": "markdown",
   "metadata": {},
   "source": [
    "<br>\n",
    "\n",
    "Pandas lets us create arrays of dates with a defined start and end"
   ]
  },
  {
   "cell_type": "code",
   "execution_count": 12,
   "metadata": {},
   "outputs": [
    {
     "data": {
      "text/plain": [
       "DatetimeIndex(['2018-12-01', '2018-12-02', '2018-12-03', '2018-12-04',\n",
       "               '2018-12-05', '2018-12-06', '2018-12-07'],\n",
       "              dtype='datetime64[ns]', freq='D')"
      ]
     },
     "execution_count": 12,
     "metadata": {},
     "output_type": "execute_result"
    }
   ],
   "source": [
    "start_date = '2018-12-01'\n",
    "end_date = '2018-12-07'\n",
    "\n",
    "dt_rng = pd.date_range(start_date, end_date, freq='D')\n",
    "dt_rng"
   ]
  },
  {
   "cell_type": "markdown",
   "metadata": {},
   "source": [
    "<br>\n",
    "\n",
    "Next we format each of the dates and format them as strings the API can accept"
   ]
  },
  {
   "cell_type": "code",
   "execution_count": 13,
   "metadata": {},
   "outputs": [
    {
     "data": {
      "text/plain": [
       "['2018-12-01',\n",
       " '2018-12-02',\n",
       " '2018-12-03',\n",
       " '2018-12-04',\n",
       " '2018-12-05',\n",
       " '2018-12-06',\n",
       " '2018-12-07']"
      ]
     },
     "execution_count": 13,
     "metadata": {},
     "output_type": "execute_result"
    }
   ],
   "source": [
    "query_dates = []\n",
    "\n",
    "for query_date in dt_rng:\n",
    "    query_dates += [datetime.strftime(query_date, '%Y-%m-%d')]\n",
    "    \n",
    "query_dates"
   ]
  },
  {
   "cell_type": "markdown",
   "metadata": {},
   "source": [
    "<br>\n",
    "\n",
    "We can also write for loops in a single line"
   ]
  },
  {
   "cell_type": "code",
   "execution_count": 14,
   "metadata": {},
   "outputs": [
    {
     "data": {
      "text/plain": [
       "[2, 3, 4, 5]"
      ]
     },
     "execution_count": 14,
     "metadata": {},
     "output_type": "execute_result"
    }
   ],
   "source": [
    "nums = [1, 2, 3, 4]\n",
    "[num + 1 for num in nums]"
   ]
  },
  {
   "cell_type": "code",
   "execution_count": 15,
   "metadata": {},
   "outputs": [
    {
     "data": {
      "text/plain": [
       "['2018-12-01',\n",
       " '2018-12-02',\n",
       " '2018-12-03',\n",
       " '2018-12-04',\n",
       " '2018-12-05',\n",
       " '2018-12-06',\n",
       " '2018-12-07']"
      ]
     },
     "execution_count": 15,
     "metadata": {},
     "output_type": "execute_result"
    }
   ],
   "source": [
    "query_dates = [datetime.strftime(query_date, '%Y-%m-%d') for query_date in dt_rng]\n",
    "query_dates"
   ]
  },
  {
   "cell_type": "markdown",
   "metadata": {},
   "source": [
    "<br>\n",
    "\n",
    "We'll now wrap this process into a single function which accepts the start and end dates then returns the list of strings"
   ]
  },
  {
   "cell_type": "code",
   "execution_count": 16,
   "metadata": {},
   "outputs": [
    {
     "data": {
      "text/plain": [
       "['2017-12-01', '2017-12-02', '2017-12-03']"
      ]
     },
     "execution_count": 16,
     "metadata": {},
     "output_type": "execute_result"
    }
   ],
   "source": [
    "def date_rng_2_date_strings(start_date, end_date):\n",
    "    dt_rng = pd.date_range(start_date, end_date, freq='D')\n",
    "    query_dates = [datetime.strftime(query_date, '%Y-%m-%d') for query_date in dt_rng]\n",
    "    return query_dates\n",
    "    \n",
    "start_date = '2017-12-01'\n",
    "end_date = '2017-12-03'\n",
    "\n",
    "date_rng_2_date_strings(start_date, end_date)"
   ]
  },
  {
   "cell_type": "markdown",
   "metadata": {},
   "source": [
    "<br>\n",
    "\n",
    "As well as iterating over the dates we'll have to iterate over each half hour settlement period (SP) in the day"
   ]
  },
  {
   "cell_type": "code",
   "execution_count": 17,
   "metadata": {},
   "outputs": [
    {
     "data": {
      "text/plain": [
       "[0, 1, 2, 3, 4]"
      ]
     },
     "execution_count": 17,
     "metadata": {},
     "output_type": "execute_result"
    }
   ],
   "source": [
    "list(range(0, 5))"
   ]
  },
  {
   "cell_type": "code",
   "execution_count": 18,
   "metadata": {},
   "outputs": [],
   "source": [
    "SPs = list(range(1, 49))"
   ]
  },
  {
   "cell_type": "markdown",
   "metadata": {},
   "source": [
    "<br>\n",
    "\n",
    "### Running Iterative Requests Over a Datetime Range"
   ]
  },
  {
   "cell_type": "code",
   "execution_count": 19,
   "metadata": {},
   "outputs": [
    {
     "data": {
      "text/plain": [
       "'https://api.bmreports.com/BMRS/B1610/v1?APIKey=bcz568ze0fnmog3&SettlementDate=2017-12-01&Period=1&NGCBMUnitID=*&ServiceType=xml'"
      ]
     },
     "execution_count": 19,
     "metadata": {},
     "output_type": "execute_result"
    }
   ],
   "source": [
    "def construct_API_url(api_key, query_date, SP, unit_id='*'):\n",
    "    query_args = {\n",
    "        'APIKey' : f'{api_key}', \n",
    "        'SettlementDate' : f'{query_date}',\n",
    "        'Period' : f'{SP}',\n",
    "        'NGCBMUnitID' : f'{unit_id}',\n",
    "        'ServiceType' : 'xml'\n",
    "    }\n",
    "\n",
    "    url_str = 'https://api.bmreports.com/BMRS/B1610/v1?'\n",
    "\n",
    "    for key in query_args.keys():\n",
    "        url_str += f'{key}={query_args[key]}&'\n",
    "\n",
    "    return url_str[:-1]\n",
    "\n",
    "api_key = 'bcz568ze0fnmog3'\n",
    "query_date = '2017-12-01'\n",
    "SP = '1'\n",
    "\n",
    "construct_API_url(api_key, query_date, SP)"
   ]
  },
  {
   "cell_type": "code",
   "execution_count": 20,
   "metadata": {},
   "outputs": [],
   "source": [
    "for query_date in query_dates:\n",
    "    for SP in SPs:\n",
    "        pass#print(construct_API_url(api_key, query_date, SP))"
   ]
  },
  {
   "cell_type": "code",
   "execution_count": 21,
   "metadata": {},
   "outputs": [
    {
     "name": "stdout",
     "output_type": "stream",
     "text": [
      "6529\n"
     ]
    }
   ],
   "source": [
    "#%%time\n",
    "## '%' in a Jupyter notebook denotes a magic command,  in this case requesting to time how long the cell takes to run\n",
    "\n",
    "def B1610_request(api_key, query_date, SP, unit_id='*'):\n",
    "    ## Constructing URL and Making Request\n",
    "    url = construct_API_url(api_key, query_date, SP, unit_id)\n",
    "    response = requests.get(url)\n",
    "\n",
    "    ## Parsing Response into a Dictionary then Dataframe\n",
    "    r_dict = xmltodict.parse(response.text)['response']['responseBody']['responseList']['item']\n",
    "    df_datetime_gen = pd.DataFrame(r_dict)\n",
    "    \n",
    "    return df_datetime_gen\n",
    "\n",
    "df_gen = pd.DataFrame()\n",
    "query_dates = ['2018-12-01'] # date_rng_2_date_strings('2018-12-01', '2018-12-07') # <- To look at full week\n",
    "\n",
    "for query_date in query_dates:\n",
    "    for SP in SPs:\n",
    "        df_datetime_gen = B1610_request(api_key, query_date, SP, unit_id='*')\n",
    "        df_gen = df_gen.append(df_datetime_gen)\n",
    "        \n",
    "df_gen = df_gen.reset_index(drop=True)\n",
    "print(df_gen.shape[0])"
   ]
  },
  {
   "cell_type": "code",
   "execution_count": 32,
   "metadata": {},
   "outputs": [
    {
     "data": {
      "text/html": [
       "<div>\n",
       "<style scoped>\n",
       "    .dataframe tbody tr th:only-of-type {\n",
       "        vertical-align: middle;\n",
       "    }\n",
       "\n",
       "    .dataframe tbody tr th {\n",
       "        vertical-align: top;\n",
       "    }\n",
       "\n",
       "    .dataframe thead th {\n",
       "        text-align: right;\n",
       "    }\n",
       "</style>\n",
       "<table border=\"1\" class=\"dataframe\">\n",
       "  <thead>\n",
       "    <tr style=\"text-align: right;\">\n",
       "      <th></th>\n",
       "      <th>documentType</th>\n",
       "      <th>businessType</th>\n",
       "      <th>processType</th>\n",
       "      <th>timeSeriesID</th>\n",
       "      <th>quantity</th>\n",
       "      <th>curveType</th>\n",
       "      <th>resolution</th>\n",
       "      <th>settlementDate</th>\n",
       "      <th>settlementPeriod</th>\n",
       "      <th>powerSystemResourceType</th>\n",
       "      <th>registeredResourceEICCode</th>\n",
       "      <th>marketGenerationUnitEICCode</th>\n",
       "      <th>marketGenerationBMUId</th>\n",
       "      <th>marketGenerationNGCBMUId</th>\n",
       "      <th>bMUnitID</th>\n",
       "      <th>nGCBMUnitID</th>\n",
       "      <th>activeFlag</th>\n",
       "      <th>documentID</th>\n",
       "      <th>documentRevNum</th>\n",
       "    </tr>\n",
       "  </thead>\n",
       "  <tbody>\n",
       "    <tr>\n",
       "      <th>0</th>\n",
       "      <td>Actual generation</td>\n",
       "      <td>Production</td>\n",
       "      <td>Realised</td>\n",
       "      <td>ELX-EMFIP-AGOG-TS-330</td>\n",
       "      <td>143.51</td>\n",
       "      <td>Sequential fixed size block</td>\n",
       "      <td>PT30M</td>\n",
       "      <td>2018-12-01</td>\n",
       "      <td>1</td>\n",
       "      <td>Generation</td>\n",
       "      <td>48W00000SHRSO-1Y</td>\n",
       "      <td>48W00000SHRSO-1Y</td>\n",
       "      <td>T_SHRSW-1</td>\n",
       "      <td>SHRSO-1</td>\n",
       "      <td>T_SHRSW-1</td>\n",
       "      <td>SHRSO-1</td>\n",
       "      <td>Y</td>\n",
       "      <td>ELX-EMFIP-AGOG-19892046</td>\n",
       "      <td>1</td>\n",
       "    </tr>\n",
       "    <tr>\n",
       "      <th>1</th>\n",
       "      <td>Actual generation</td>\n",
       "      <td>Production</td>\n",
       "      <td>Realised</td>\n",
       "      <td>ELX-EMFIP-AGOG-TS-331</td>\n",
       "      <td>150.85</td>\n",
       "      <td>Sequential fixed size block</td>\n",
       "      <td>PT30M</td>\n",
       "      <td>2018-12-01</td>\n",
       "      <td>1</td>\n",
       "      <td>Generation</td>\n",
       "      <td>48W00000SHRSO-2W</td>\n",
       "      <td>48W00000SHRSO-2W</td>\n",
       "      <td>T_SHRSW-2</td>\n",
       "      <td>SHRSO-2</td>\n",
       "      <td>T_SHRSW-2</td>\n",
       "      <td>SHRSO-2</td>\n",
       "      <td>Y</td>\n",
       "      <td>ELX-EMFIP-AGOG-19892046</td>\n",
       "      <td>1</td>\n",
       "    </tr>\n",
       "    <tr>\n",
       "      <th>2</th>\n",
       "      <td>Actual generation</td>\n",
       "      <td>Production</td>\n",
       "      <td>Realised</td>\n",
       "      <td>ELX-EMFIP-AGOG-TS-173</td>\n",
       "      <td>11.934</td>\n",
       "      <td>Sequential fixed size block</td>\n",
       "      <td>PT30M</td>\n",
       "      <td>2018-12-01</td>\n",
       "      <td>1</td>\n",
       "      <td>Generation</td>\n",
       "      <td>48W00000GFLDW-11</td>\n",
       "      <td>48W00000GFLDW-11</td>\n",
       "      <td>E_GFLDW-1</td>\n",
       "      <td>GFLDW-1</td>\n",
       "      <td>E_GFLDW-1</td>\n",
       "      <td>GFLDW-1</td>\n",
       "      <td>Y</td>\n",
       "      <td>ELX-EMFIP-AGOG-19892046</td>\n",
       "      <td>1</td>\n",
       "    </tr>\n",
       "    <tr>\n",
       "      <th>3</th>\n",
       "      <td>Actual generation</td>\n",
       "      <td>Production</td>\n",
       "      <td>Realised</td>\n",
       "      <td>ELX-EMFIP-AGOG-TS-293</td>\n",
       "      <td>8.898</td>\n",
       "      <td>Sequential fixed size block</td>\n",
       "      <td>PT30M</td>\n",
       "      <td>2018-12-01</td>\n",
       "      <td>1</td>\n",
       "      <td>Generation</td>\n",
       "      <td>48W00000HRSTW-19</td>\n",
       "      <td>48W00000HRSTW-19</td>\n",
       "      <td>T_HRSTW-1</td>\n",
       "      <td>HRSTW-1</td>\n",
       "      <td>T_HRSTW-1</td>\n",
       "      <td>HRSTW-1</td>\n",
       "      <td>Y</td>\n",
       "      <td>ELX-EMFIP-AGOG-19892046</td>\n",
       "      <td>1</td>\n",
       "    </tr>\n",
       "    <tr>\n",
       "      <th>4</th>\n",
       "      <td>Actual generation</td>\n",
       "      <td>Production</td>\n",
       "      <td>Realised</td>\n",
       "      <td>ELX-EMFIP-AGOG-TS-306</td>\n",
       "      <td>22.744</td>\n",
       "      <td>Sequential fixed size block</td>\n",
       "      <td>PT30M</td>\n",
       "      <td>2018-12-01</td>\n",
       "      <td>1</td>\n",
       "      <td>Generation</td>\n",
       "      <td>48W00000LCLTW-1D</td>\n",
       "      <td>48W00000LCLTW-1D</td>\n",
       "      <td>T_LCLTW-1</td>\n",
       "      <td>LCLTW-1</td>\n",
       "      <td>T_LCLTW-1</td>\n",
       "      <td>LCLTW-1</td>\n",
       "      <td>Y</td>\n",
       "      <td>ELX-EMFIP-AGOG-19892046</td>\n",
       "      <td>1</td>\n",
       "    </tr>\n",
       "  </tbody>\n",
       "</table>\n",
       "</div>"
      ],
      "text/plain": [
       "        documentType businessType processType           timeSeriesID quantity  \\\n",
       "0  Actual generation   Production    Realised  ELX-EMFIP-AGOG-TS-330   143.51   \n",
       "1  Actual generation   Production    Realised  ELX-EMFIP-AGOG-TS-331   150.85   \n",
       "2  Actual generation   Production    Realised  ELX-EMFIP-AGOG-TS-173   11.934   \n",
       "3  Actual generation   Production    Realised  ELX-EMFIP-AGOG-TS-293    8.898   \n",
       "4  Actual generation   Production    Realised  ELX-EMFIP-AGOG-TS-306   22.744   \n",
       "\n",
       "                     curveType resolution settlementDate settlementPeriod  \\\n",
       "0  Sequential fixed size block      PT30M     2018-12-01                1   \n",
       "1  Sequential fixed size block      PT30M     2018-12-01                1   \n",
       "2  Sequential fixed size block      PT30M     2018-12-01                1   \n",
       "3  Sequential fixed size block      PT30M     2018-12-01                1   \n",
       "4  Sequential fixed size block      PT30M     2018-12-01                1   \n",
       "\n",
       "  powerSystemResourceType registeredResourceEICCode  \\\n",
       "0              Generation          48W00000SHRSO-1Y   \n",
       "1              Generation          48W00000SHRSO-2W   \n",
       "2              Generation          48W00000GFLDW-11   \n",
       "3              Generation          48W00000HRSTW-19   \n",
       "4              Generation          48W00000LCLTW-1D   \n",
       "\n",
       "  marketGenerationUnitEICCode marketGenerationBMUId marketGenerationNGCBMUId  \\\n",
       "0            48W00000SHRSO-1Y             T_SHRSW-1                  SHRSO-1   \n",
       "1            48W00000SHRSO-2W             T_SHRSW-2                  SHRSO-2   \n",
       "2            48W00000GFLDW-11             E_GFLDW-1                  GFLDW-1   \n",
       "3            48W00000HRSTW-19             T_HRSTW-1                  HRSTW-1   \n",
       "4            48W00000LCLTW-1D             T_LCLTW-1                  LCLTW-1   \n",
       "\n",
       "    bMUnitID nGCBMUnitID activeFlag               documentID documentRevNum  \n",
       "0  T_SHRSW-1     SHRSO-1          Y  ELX-EMFIP-AGOG-19892046              1  \n",
       "1  T_SHRSW-2     SHRSO-2          Y  ELX-EMFIP-AGOG-19892046              1  \n",
       "2  E_GFLDW-1     GFLDW-1          Y  ELX-EMFIP-AGOG-19892046              1  \n",
       "3  T_HRSTW-1     HRSTW-1          Y  ELX-EMFIP-AGOG-19892046              1  \n",
       "4  T_LCLTW-1     LCLTW-1          Y  ELX-EMFIP-AGOG-19892046              1  "
      ]
     },
     "execution_count": 32,
     "metadata": {},
     "output_type": "execute_result"
    }
   ],
   "source": [
    "df_gen.head()"
   ]
  },
  {
   "cell_type": "markdown",
   "metadata": {},
   "source": [
    "<br>\n",
    "<br>\n",
    "\n",
    "# Scraping the Crown Estate Wind Farm Map\n",
    "\n",
    "https://www.thecrownestate.co.uk/en-gb/our-places/asset-map/"
   ]
  },
  {
   "cell_type": "code",
   "execution_count": 23,
   "metadata": {},
   "outputs": [],
   "source": [
    "url = 'https://www.thecrownestate.co.uk/api/energy-map/wind-farm-data'\n",
    "\n",
    "headers = {\n",
    "    'APIKey':'23k4jb32kb235kh'\n",
    "}\n",
    "\n",
    "response = requests.get(url, headers=headers) \n",
    "response_json = response.json()"
   ]
  },
  {
   "cell_type": "code",
   "execution_count": 24,
   "metadata": {},
   "outputs": [
    {
     "data": {
      "text/plain": [
       "dict_keys(['Nationaldataset', 'WindFarms', 'Winds'])"
      ]
     },
     "execution_count": 24,
     "metadata": {},
     "output_type": "execute_result"
    }
   ],
   "source": [
    "response_json.keys()"
   ]
  },
  {
   "cell_type": "code",
   "execution_count": 25,
   "metadata": {},
   "outputs": [
    {
     "data": {
      "text/plain": [
       "{'Id': 'RREW-1',\n",
       " 'Name': 'Robin Rigg East',\n",
       " 'Latitude': '54.763880',\n",
       " 'Longitude': '-3.697027',\n",
       " 'OutputPercentage': '21.67%',\n",
       " 'Output': '19.5',\n",
       " 'WindFarmImage': None,\n",
       " 'Coordinates': '\"-3.67755299999993,54.7522050000001\", \"-3.69013699999994,54.74431\", \"-3.69183702899994,54.7447469420001\", \"-3.70505799999995,54.7481450000001\", \"-3.70505665599995,54.748146654\", \"-3.70173299999993,54.752237\", \"-3.73993699999994,54.76293\", \"-3.68454199999996,54.782793\", \"-3.66930799999994,54.772748\", \"-3.67755299999993,54.7522050000001\"',\n",
       " 'PolygonOverlay': '',\n",
       " 'Operator': 'EON C&R UK Robin Rigg East Ltd',\n",
       " 'OperatorLogoLarge': None,\n",
       " 'OperatorLogoSmall': None,\n",
       " 'NumberOfTurbines': '30',\n",
       " 'TurbineTypeBrand': '',\n",
       " 'TurbineTypeModel': 'V90-3.0 MW',\n",
       " 'OperatorWebsite': '',\n",
       " 'OperatorWebsiteLabel': '',\n",
       " 'WindFarmLocationImage': None,\n",
       " 'TurbineCordinates': '\"-3.70051665399995,54.7714999990001\"; \"-3.69344998799994,54.769916666\"; \"-3.70933332199996,54.7691666650001\"; \"-3.70313331999995,54.767599998\"; \"-3.69626665499993,54.7659166660001\"; \"-3.68989998799998,54.7644499990001\"; \"-3.68381665299995,54.762416665\"; \"-3.71878902699996,54.767240895\"; \"-3.71189998799997,54.7655999990001\"; \"-3.70566665299998,54.7639999990001\"; \"-3.69879998699997,54.762216666\"; \"-3.69263331999997,54.7606999990001\"; \"-3.68618332099993,54.758949998\"; \"-3.72825911999996,54.7652076890001\"; \"-3.72156096099997,54.763422151\"; \"-3.71446175799997,54.7617185490001\"; \"-3.70824465999993,54.7601757640001\"; \"-3.70154861299994,54.7584884450001\"; \"-3.69532495599998,54.7568882090001\"; \"-3.68863332099994,54.755233332\"; \"-3.73673899799996,54.762705871\"; \"-3.73112087699997,54.7611860270001\"; \"-3.72411602199998,54.7594822940001\"; \"-3.71735409099995,54.7577706810001\"; \"-3.71095340899996,54.7563034930001\"; \"-3.70429534899995,54.7546465720001\"; \"-3.69781919999997,54.7528488570001\"; \"-3.69136854299995,54.751300153\"; \"-3.70041665399998,54.749116665\"; \"-3.69386665399998,54.747516665\"',\n",
       " 'SiteCapacity': '90'}"
      ]
     },
     "execution_count": 25,
     "metadata": {},
     "output_type": "execute_result"
    }
   ],
   "source": [
    "response_json['WindFarms'][0]"
   ]
  },
  {
   "cell_type": "code",
   "execution_count": 26,
   "metadata": {},
   "outputs": [
    {
     "data": {
      "text/html": [
       "<div>\n",
       "<style scoped>\n",
       "    .dataframe tbody tr th:only-of-type {\n",
       "        vertical-align: middle;\n",
       "    }\n",
       "\n",
       "    .dataframe tbody tr th {\n",
       "        vertical-align: top;\n",
       "    }\n",
       "\n",
       "    .dataframe thead th {\n",
       "        text-align: right;\n",
       "    }\n",
       "</style>\n",
       "<table border=\"1\" class=\"dataframe\">\n",
       "  <thead>\n",
       "    <tr style=\"text-align: right;\">\n",
       "      <th></th>\n",
       "      <th>Id</th>\n",
       "      <th>Name</th>\n",
       "      <th>Latitude</th>\n",
       "      <th>Longitude</th>\n",
       "      <th>OutputPercentage</th>\n",
       "      <th>Output</th>\n",
       "      <th>WindFarmImage</th>\n",
       "      <th>Coordinates</th>\n",
       "      <th>PolygonOverlay</th>\n",
       "      <th>Operator</th>\n",
       "      <th>OperatorLogoLarge</th>\n",
       "      <th>OperatorLogoSmall</th>\n",
       "      <th>NumberOfTurbines</th>\n",
       "      <th>TurbineTypeBrand</th>\n",
       "      <th>TurbineTypeModel</th>\n",
       "      <th>OperatorWebsite</th>\n",
       "      <th>OperatorWebsiteLabel</th>\n",
       "      <th>WindFarmLocationImage</th>\n",
       "      <th>TurbineCordinates</th>\n",
       "      <th>SiteCapacity</th>\n",
       "    </tr>\n",
       "  </thead>\n",
       "  <tbody>\n",
       "    <tr>\n",
       "      <th>RREW-1</th>\n",
       "      <td>RREW-1</td>\n",
       "      <td>Robin Rigg East</td>\n",
       "      <td>54.763880</td>\n",
       "      <td>-3.697027</td>\n",
       "      <td>21.67%</td>\n",
       "      <td>19.5</td>\n",
       "      <td>None</td>\n",
       "      <td>\"-3.67755299999993,54.7522050000001\", \"-3.6901...</td>\n",
       "      <td></td>\n",
       "      <td>EON C&amp;R UK Robin Rigg East Ltd</td>\n",
       "      <td>None</td>\n",
       "      <td>None</td>\n",
       "      <td>30</td>\n",
       "      <td></td>\n",
       "      <td>V90-3.0 MW</td>\n",
       "      <td></td>\n",
       "      <td></td>\n",
       "      <td>None</td>\n",
       "      <td>\"-3.70051665399995,54.7714999990001\"; \"-3.6934...</td>\n",
       "      <td>90</td>\n",
       "    </tr>\n",
       "    <tr>\n",
       "      <th>RRWW-1</th>\n",
       "      <td>RRWW-1</td>\n",
       "      <td>Robin Rigg West</td>\n",
       "      <td>54.746869</td>\n",
       "      <td>-3.726277</td>\n",
       "      <td>30.56%</td>\n",
       "      <td>27.5</td>\n",
       "      <td>None</td>\n",
       "      <td>\"-3.70257999999995,54.735373\", \"-3.74204999999...</td>\n",
       "      <td></td>\n",
       "      <td>EON C&amp;R UK Robin Rigg West Ltd</td>\n",
       "      <td>None</td>\n",
       "      <td>None</td>\n",
       "      <td>30</td>\n",
       "      <td></td>\n",
       "      <td>V90-3.0 MW</td>\n",
       "      <td></td>\n",
       "      <td></td>\n",
       "      <td>None</td>\n",
       "      <td>\"-3.74017264399993,54.7588475970001\"; \"-3.7332...</td>\n",
       "      <td>90</td>\n",
       "    </tr>\n",
       "    <tr>\n",
       "      <th>WLNYO-2</th>\n",
       "      <td>WLNYO-2</td>\n",
       "      <td>Walney 2</td>\n",
       "      <td>54.081037</td>\n",
       "      <td>-3.604309</td>\n",
       "      <td>10.87%</td>\n",
       "      <td>20.0</td>\n",
       "      <td>None</td>\n",
       "      <td>\"-3.53594317099993,54.07430622\", \"-3.563399999...</td>\n",
       "      <td></td>\n",
       "      <td>Walney (UK) Offshore Windfarms Ltd.</td>\n",
       "      <td>None</td>\n",
       "      <td>None</td>\n",
       "      <td>51</td>\n",
       "      <td></td>\n",
       "      <td>SWT-3.6-120</td>\n",
       "      <td></td>\n",
       "      <td></td>\n",
       "      <td>None</td>\n",
       "      <td>\"-3.54176680499995,54.0790140280001\"; \"-3.5506...</td>\n",
       "      <td>184</td>\n",
       "    </tr>\n",
       "    <tr>\n",
       "      <th>WLNYW-1</th>\n",
       "      <td>WLNYW-1</td>\n",
       "      <td>Walney 1</td>\n",
       "      <td>54.040489</td>\n",
       "      <td>-3.512528</td>\n",
       "      <td>11.03%</td>\n",
       "      <td>20.3</td>\n",
       "      <td>None</td>\n",
       "      <td>\"-3.44551246799995,54.0293461960001\", \"-3.5259...</td>\n",
       "      <td></td>\n",
       "      <td>Walney (UK) Offshore Windfarms Ltd.</td>\n",
       "      <td>None</td>\n",
       "      <td>None</td>\n",
       "      <td>51</td>\n",
       "      <td></td>\n",
       "      <td>SWT-3.6-107</td>\n",
       "      <td></td>\n",
       "      <td></td>\n",
       "      <td>None</td>\n",
       "      <td>\"-3.44731301199994,54.0299252070001\"; \"-3.4558...</td>\n",
       "      <td>184</td>\n",
       "    </tr>\n",
       "    <tr>\n",
       "      <th>WDNSW</th>\n",
       "      <td>WDNSW</td>\n",
       "      <td>West of Duddon Sands</td>\n",
       "      <td>53.984042</td>\n",
       "      <td>-3.464347</td>\n",
       "      <td>12.34%</td>\n",
       "      <td>48.0</td>\n",
       "      <td>None</td>\n",
       "      <td>\"-3.37998099999993,53.972447\", \"-3.42291599999...</td>\n",
       "      <td></td>\n",
       "      <td>ScottishPower Renewables (WoDS) Limited and Do...</td>\n",
       "      <td>None</td>\n",
       "      <td>None</td>\n",
       "      <td>108</td>\n",
       "      <td></td>\n",
       "      <td>SWT-3.6-120</td>\n",
       "      <td></td>\n",
       "      <td></td>\n",
       "      <td>None</td>\n",
       "      <td>\"-3.42734691899994,53.965460137\"; \"-3.42158698...</td>\n",
       "      <td>389</td>\n",
       "    </tr>\n",
       "  </tbody>\n",
       "</table>\n",
       "</div>"
      ],
      "text/plain": [
       "              Id                  Name   Latitude  Longitude OutputPercentage  \\\n",
       "RREW-1    RREW-1       Robin Rigg East  54.763880  -3.697027           21.67%   \n",
       "RRWW-1    RRWW-1       Robin Rigg West  54.746869  -3.726277           30.56%   \n",
       "WLNYO-2  WLNYO-2              Walney 2  54.081037  -3.604309           10.87%   \n",
       "WLNYW-1  WLNYW-1              Walney 1  54.040489  -3.512528           11.03%   \n",
       "WDNSW      WDNSW  West of Duddon Sands  53.984042  -3.464347           12.34%   \n",
       "\n",
       "        Output WindFarmImage  \\\n",
       "RREW-1    19.5          None   \n",
       "RRWW-1    27.5          None   \n",
       "WLNYO-2   20.0          None   \n",
       "WLNYW-1   20.3          None   \n",
       "WDNSW     48.0          None   \n",
       "\n",
       "                                               Coordinates PolygonOverlay  \\\n",
       "RREW-1   \"-3.67755299999993,54.7522050000001\", \"-3.6901...                  \n",
       "RRWW-1   \"-3.70257999999995,54.735373\", \"-3.74204999999...                  \n",
       "WLNYO-2  \"-3.53594317099993,54.07430622\", \"-3.563399999...                  \n",
       "WLNYW-1  \"-3.44551246799995,54.0293461960001\", \"-3.5259...                  \n",
       "WDNSW    \"-3.37998099999993,53.972447\", \"-3.42291599999...                  \n",
       "\n",
       "                                                  Operator OperatorLogoLarge  \\\n",
       "RREW-1                      EON C&R UK Robin Rigg East Ltd              None   \n",
       "RRWW-1                      EON C&R UK Robin Rigg West Ltd              None   \n",
       "WLNYO-2                Walney (UK) Offshore Windfarms Ltd.              None   \n",
       "WLNYW-1                Walney (UK) Offshore Windfarms Ltd.              None   \n",
       "WDNSW    ScottishPower Renewables (WoDS) Limited and Do...              None   \n",
       "\n",
       "        OperatorLogoSmall NumberOfTurbines TurbineTypeBrand TurbineTypeModel  \\\n",
       "RREW-1               None               30                        V90-3.0 MW   \n",
       "RRWW-1               None               30                        V90-3.0 MW   \n",
       "WLNYO-2              None               51                       SWT-3.6-120   \n",
       "WLNYW-1              None               51                       SWT-3.6-107   \n",
       "WDNSW                None              108                       SWT-3.6-120   \n",
       "\n",
       "        OperatorWebsite OperatorWebsiteLabel WindFarmLocationImage  \\\n",
       "RREW-1                                                        None   \n",
       "RRWW-1                                                        None   \n",
       "WLNYO-2                                                       None   \n",
       "WLNYW-1                                                       None   \n",
       "WDNSW                                                         None   \n",
       "\n",
       "                                         TurbineCordinates SiteCapacity  \n",
       "RREW-1   \"-3.70051665399995,54.7714999990001\"; \"-3.6934...           90  \n",
       "RRWW-1   \"-3.74017264399993,54.7588475970001\"; \"-3.7332...           90  \n",
       "WLNYO-2  \"-3.54176680499995,54.0790140280001\"; \"-3.5506...          184  \n",
       "WLNYW-1  \"-3.44731301199994,54.0299252070001\"; \"-3.4558...          184  \n",
       "WDNSW    \"-3.42734691899994,53.965460137\"; \"-3.42158698...          389  "
      ]
     },
     "execution_count": 26,
     "metadata": {},
     "output_type": "execute_result"
    }
   ],
   "source": [
    "json_keys = response_json['WindFarms'][0].keys()\n",
    "df_windfarms = pd.DataFrame(index=json_keys)\n",
    "\n",
    "for windfarm in response_json['WindFarms']:\n",
    "    df_windfarms[windfarm['Id']] = pd.Series(windfarm)\n",
    "    \n",
    "df_windfarms = df_windfarms.T#.drop(columns=['Id'])\n",
    "df_windfarms.head()"
   ]
  },
  {
   "cell_type": "markdown",
   "metadata": {},
   "source": [
    "<br>\n",
    "\n"
   ]
  },
  {
   "cell_type": "code",
   "execution_count": 27,
   "metadata": {},
   "outputs": [
    {
     "data": {
      "text/plain": [
       "True"
      ]
     },
     "execution_count": 27,
     "metadata": {},
     "output_type": "execute_result"
    }
   ],
   "source": [
    "s_correct_id_bool = (df_windfarms.index == df_windfarms.Id) # Can also use np.equal(df_windfarms.index.values, df_windfarms.Id.values)\n",
    "\n",
    "s_correct_id_bool.shape[0] == s_correct_id_bool.sum()"
   ]
  },
  {
   "cell_type": "markdown",
   "metadata": {},
   "source": [
    "<br>\n",
    "\n",
    "We can list the individual operators for each of the wind farms and filter for them."
   ]
  },
  {
   "cell_type": "code",
   "execution_count": 28,
   "metadata": {},
   "outputs": [
    {
     "data": {
      "text/plain": [
       "array(['EON C&R UK Robin Rigg East Ltd', 'EON C&R UK Robin Rigg West Ltd',\n",
       "       'Walney (UK) Offshore Windfarms Ltd.',\n",
       "       'ScottishPower Renewables (WoDS) Limited and Dong Energy West of Duddon Sands (UK) Limited',\n",
       "       'Barrow Offshore Wind Ltd', 'Ormonde Energy Ltd',\n",
       "       'Rhyl Flats Wind Farm Limited', 'NWP Offshore Limited',\n",
       "       'Gwynt y Mor Offshore Windfarm',\n",
       "       'Dong Energy Burbo Extension (UK) Limited',\n",
       "       'DONG Energy Burbo (UK) Limited', 'Gunfleet Sands Limited',\n",
       "       'Gunfleet Sands II Ltd', 'Kentish Flats Limited',\n",
       "       'Vattenfall Wind Power Limited', 'London Array Limited',\n",
       "       'Thanet Offshore Wind Limited', 'Greater Gabbard Offshore Winds',\n",
       "       'Eon Climate & Renewables UK OW', 'SCIRA Offshore Energy Limited',\n",
       "       'Lincs Wind Farm Limited', 'Dudgeon Offshore Wind Ltd',\n",
       "       'E.ON Climate & Renewables UK Humber Wind Limited',\n",
       "       'Westermost Rough Ltd', 'Lynn Wind Farm Ltd',\n",
       "       'Inner Dowsing Wind Farm Ltd', 'EDF', 'Galloper Wind Farm Limited',\n",
       "       'E.ON', 'Ørsted', 'Race Bank Wind Farm Limited'], dtype=object)"
      ]
     },
     "execution_count": 28,
     "metadata": {},
     "output_type": "execute_result"
    }
   ],
   "source": [
    "df_windfarms['Operator'].unique()"
   ]
  },
  {
   "cell_type": "code",
   "execution_count": 29,
   "metadata": {},
   "outputs": [
    {
     "data": {
      "text/html": [
       "<div>\n",
       "<style scoped>\n",
       "    .dataframe tbody tr th:only-of-type {\n",
       "        vertical-align: middle;\n",
       "    }\n",
       "\n",
       "    .dataframe tbody tr th {\n",
       "        vertical-align: top;\n",
       "    }\n",
       "\n",
       "    .dataframe thead th {\n",
       "        text-align: right;\n",
       "    }\n",
       "</style>\n",
       "<table border=\"1\" class=\"dataframe\">\n",
       "  <thead>\n",
       "    <tr style=\"text-align: right;\">\n",
       "      <th></th>\n",
       "      <th>Id</th>\n",
       "      <th>Name</th>\n",
       "      <th>Latitude</th>\n",
       "      <th>Longitude</th>\n",
       "      <th>OutputPercentage</th>\n",
       "      <th>Output</th>\n",
       "      <th>WindFarmImage</th>\n",
       "      <th>Coordinates</th>\n",
       "      <th>PolygonOverlay</th>\n",
       "      <th>Operator</th>\n",
       "      <th>OperatorLogoLarge</th>\n",
       "      <th>OperatorLogoSmall</th>\n",
       "      <th>NumberOfTurbines</th>\n",
       "      <th>TurbineTypeBrand</th>\n",
       "      <th>TurbineTypeModel</th>\n",
       "      <th>OperatorWebsite</th>\n",
       "      <th>OperatorWebsiteLabel</th>\n",
       "      <th>WindFarmLocationImage</th>\n",
       "      <th>TurbineCordinates</th>\n",
       "      <th>SiteCapacity</th>\n",
       "    </tr>\n",
       "  </thead>\n",
       "  <tbody>\n",
       "    <tr>\n",
       "      <th>RREW-1</th>\n",
       "      <td>RREW-1</td>\n",
       "      <td>Robin Rigg East</td>\n",
       "      <td>54.763880</td>\n",
       "      <td>-3.697027</td>\n",
       "      <td>21.67%</td>\n",
       "      <td>19.5</td>\n",
       "      <td>None</td>\n",
       "      <td>\"-3.67755299999993,54.7522050000001\", \"-3.6901...</td>\n",
       "      <td></td>\n",
       "      <td>EON C&amp;R UK Robin Rigg East Ltd</td>\n",
       "      <td>None</td>\n",
       "      <td>None</td>\n",
       "      <td>30</td>\n",
       "      <td></td>\n",
       "      <td>V90-3.0 MW</td>\n",
       "      <td></td>\n",
       "      <td></td>\n",
       "      <td>None</td>\n",
       "      <td>\"-3.70051665399995,54.7714999990001\"; \"-3.6934...</td>\n",
       "      <td>90</td>\n",
       "    </tr>\n",
       "    <tr>\n",
       "      <th>RRWW-1</th>\n",
       "      <td>RRWW-1</td>\n",
       "      <td>Robin Rigg West</td>\n",
       "      <td>54.746869</td>\n",
       "      <td>-3.726277</td>\n",
       "      <td>30.56%</td>\n",
       "      <td>27.5</td>\n",
       "      <td>None</td>\n",
       "      <td>\"-3.70257999999995,54.735373\", \"-3.74204999999...</td>\n",
       "      <td></td>\n",
       "      <td>EON C&amp;R UK Robin Rigg West Ltd</td>\n",
       "      <td>None</td>\n",
       "      <td>None</td>\n",
       "      <td>30</td>\n",
       "      <td></td>\n",
       "      <td>V90-3.0 MW</td>\n",
       "      <td></td>\n",
       "      <td></td>\n",
       "      <td>None</td>\n",
       "      <td>\"-3.74017264399993,54.7588475970001\"; \"-3.7332...</td>\n",
       "      <td>90</td>\n",
       "    </tr>\n",
       "  </tbody>\n",
       "</table>\n",
       "</div>"
      ],
      "text/plain": [
       "            Id             Name   Latitude  Longitude OutputPercentage Output  \\\n",
       "RREW-1  RREW-1  Robin Rigg East  54.763880  -3.697027           21.67%   19.5   \n",
       "RRWW-1  RRWW-1  Robin Rigg West  54.746869  -3.726277           30.56%   27.5   \n",
       "\n",
       "       WindFarmImage                                        Coordinates  \\\n",
       "RREW-1          None  \"-3.67755299999993,54.7522050000001\", \"-3.6901...   \n",
       "RRWW-1          None  \"-3.70257999999995,54.735373\", \"-3.74204999999...   \n",
       "\n",
       "       PolygonOverlay                        Operator OperatorLogoLarge  \\\n",
       "RREW-1                 EON C&R UK Robin Rigg East Ltd              None   \n",
       "RRWW-1                 EON C&R UK Robin Rigg West Ltd              None   \n",
       "\n",
       "       OperatorLogoSmall NumberOfTurbines TurbineTypeBrand TurbineTypeModel  \\\n",
       "RREW-1              None               30                        V90-3.0 MW   \n",
       "RRWW-1              None               30                        V90-3.0 MW   \n",
       "\n",
       "       OperatorWebsite OperatorWebsiteLabel WindFarmLocationImage  \\\n",
       "RREW-1                                                       None   \n",
       "RRWW-1                                                       None   \n",
       "\n",
       "                                        TurbineCordinates SiteCapacity  \n",
       "RREW-1  \"-3.70051665399995,54.7714999990001\"; \"-3.6934...           90  \n",
       "RRWW-1  \"-3.74017264399993,54.7588475970001\"; \"-3.7332...           90  "
      ]
     },
     "execution_count": 29,
     "metadata": {},
     "output_type": "execute_result"
    }
   ],
   "source": [
    "s_EDF_bool = df_windfarms['Operator'].str.contains('EON')\n",
    "df_windfarms[s_EDF_bool]"
   ]
  },
  {
   "cell_type": "markdown",
   "metadata": {},
   "source": [
    "<br>\n",
    "\n",
    "By default Pandas is reading in all of the columns in this data as string objects, we can reformat some of them as numeric columns."
   ]
  },
  {
   "cell_type": "code",
   "execution_count": 30,
   "metadata": {},
   "outputs": [
    {
     "data": {
      "text/plain": [
       "Id                       object\n",
       "Name                     object\n",
       "Latitude                 object\n",
       "Longitude                object\n",
       "OutputPercentage         object\n",
       "Output                   object\n",
       "WindFarmImage            object\n",
       "Coordinates              object\n",
       "PolygonOverlay           object\n",
       "Operator                 object\n",
       "OperatorLogoLarge        object\n",
       "OperatorLogoSmall        object\n",
       "NumberOfTurbines         object\n",
       "TurbineTypeBrand         object\n",
       "TurbineTypeModel         object\n",
       "OperatorWebsite          object\n",
       "OperatorWebsiteLabel     object\n",
       "WindFarmLocationImage    object\n",
       "TurbineCordinates        object\n",
       "SiteCapacity             object\n",
       "dtype: object"
      ]
     },
     "execution_count": 30,
     "metadata": {},
     "output_type": "execute_result"
    }
   ],
   "source": [
    "df_windfarms.dtypes"
   ]
  },
  {
   "cell_type": "code",
   "execution_count": 37,
   "metadata": {},
   "outputs": [
    {
     "data": {
      "text/plain": [
       "Id                        object\n",
       "Name                      object\n",
       "Latitude                 float64\n",
       "Longitude                float64\n",
       "OutputPercentage          object\n",
       "Output                    object\n",
       "WindFarmImage             object\n",
       "Coordinates               object\n",
       "PolygonOverlay            object\n",
       "Operator                  object\n",
       "OperatorLogoLarge         object\n",
       "OperatorLogoSmall         object\n",
       "NumberOfTurbines         float64\n",
       "TurbineTypeBrand          object\n",
       "TurbineTypeModel          object\n",
       "OperatorWebsite           object\n",
       "OperatorWebsiteLabel      object\n",
       "WindFarmLocationImage     object\n",
       "TurbineCordinates         object\n",
       "SiteCapacity             float64\n",
       "dtype: object"
      ]
     },
     "execution_count": 37,
     "metadata": {},
     "output_type": "execute_result"
    }
   ],
   "source": [
    "numeric_cols = ['Latitude', 'Longitude', 'NumberOfTurbines', 'SiteCapacity']\n",
    "\n",
    "for numeric_col in numeric_cols:\n",
    "    df_windfarms[numeric_col] = df_windfarms[numeric_col].astype(float)\n",
    "\n",
    "df_windfarms.dtypes"
   ]
  },
  {
   "cell_type": "markdown",
   "metadata": {},
   "source": [
    "<br>\n",
    "\n",
    "We can identify the largest windfarms using .sort_values()"
   ]
  },
  {
   "cell_type": "code",
   "execution_count": 38,
   "metadata": {},
   "outputs": [
    {
     "data": {
      "text/html": [
       "<div>\n",
       "<style scoped>\n",
       "    .dataframe tbody tr th:only-of-type {\n",
       "        vertical-align: middle;\n",
       "    }\n",
       "\n",
       "    .dataframe tbody tr th {\n",
       "        vertical-align: top;\n",
       "    }\n",
       "\n",
       "    .dataframe thead th {\n",
       "        text-align: right;\n",
       "    }\n",
       "</style>\n",
       "<table border=\"1\" class=\"dataframe\">\n",
       "  <thead>\n",
       "    <tr style=\"text-align: right;\">\n",
       "      <th></th>\n",
       "      <th>Id</th>\n",
       "      <th>Name</th>\n",
       "      <th>Latitude</th>\n",
       "      <th>Longitude</th>\n",
       "      <th>OutputPercentage</th>\n",
       "      <th>Output</th>\n",
       "      <th>WindFarmImage</th>\n",
       "      <th>Coordinates</th>\n",
       "      <th>PolygonOverlay</th>\n",
       "      <th>Operator</th>\n",
       "      <th>OperatorLogoLarge</th>\n",
       "      <th>OperatorLogoSmall</th>\n",
       "      <th>NumberOfTurbines</th>\n",
       "      <th>TurbineTypeBrand</th>\n",
       "      <th>TurbineTypeModel</th>\n",
       "      <th>OperatorWebsite</th>\n",
       "      <th>OperatorWebsiteLabel</th>\n",
       "      <th>WindFarmLocationImage</th>\n",
       "      <th>TurbineCordinates</th>\n",
       "      <th>SiteCapacity</th>\n",
       "    </tr>\n",
       "  </thead>\n",
       "  <tbody>\n",
       "    <tr>\n",
       "      <th>LARYO</th>\n",
       "      <td>LARYO</td>\n",
       "      <td>London Array 1</td>\n",
       "      <td>51.625553</td>\n",
       "      <td>1.496327</td>\n",
       "      <td>0</td>\n",
       "      <td>0.0</td>\n",
       "      <td>None</td>\n",
       "      <td>\"1.58153000000004,51.5774210000001\", \"1.528915...</td>\n",
       "      <td></td>\n",
       "      <td>London Array Limited</td>\n",
       "      <td>None</td>\n",
       "      <td>None</td>\n",
       "      <td>175.0</td>\n",
       "      <td></td>\n",
       "      <td>SWT-3.6-120</td>\n",
       "      <td></td>\n",
       "      <td></td>\n",
       "      <td>None</td>\n",
       "      <td>\"1.45759028700007,51.578589778\"; \"1.4503018610...</td>\n",
       "      <td>630.0</td>\n",
       "    </tr>\n",
       "    <tr>\n",
       "      <th>GYMRW</th>\n",
       "      <td>GYMRW</td>\n",
       "      <td>Gwynt y Mor</td>\n",
       "      <td>53.458829</td>\n",
       "      <td>-3.584275</td>\n",
       "      <td>13.02%</td>\n",
       "      <td>75.0</td>\n",
       "      <td>None</td>\n",
       "      <td>\"-3.59688699999998,53.4225210000001\", \"-3.6141...</td>\n",
       "      <td></td>\n",
       "      <td>Gwynt y Mor Offshore Windfarm</td>\n",
       "      <td>None</td>\n",
       "      <td>None</td>\n",
       "      <td>160.0</td>\n",
       "      <td></td>\n",
       "      <td>SWT-3.6-107</td>\n",
       "      <td></td>\n",
       "      <td></td>\n",
       "      <td>None</td>\n",
       "      <td>\"-3.61130184599995,53.490076946\"; \"-3.60047113...</td>\n",
       "      <td>576.0</td>\n",
       "    </tr>\n",
       "    <tr>\n",
       "      <th>RCBKO</th>\n",
       "      <td>RCBKO</td>\n",
       "      <td>Race Bank</td>\n",
       "      <td>53.276000</td>\n",
       "      <td>0.841000</td>\n",
       "      <td>2.23%</td>\n",
       "      <td>12.8</td>\n",
       "      <td>None</td>\n",
       "      <td>\"0.933186000000035,53.262006\", \"0.895833000000...</td>\n",
       "      <td></td>\n",
       "      <td>Race Bank Wind Farm Limited</td>\n",
       "      <td>None</td>\n",
       "      <td>None</td>\n",
       "      <td>91.0</td>\n",
       "      <td></td>\n",
       "      <td>SWT-6.0–154</td>\n",
       "      <td></td>\n",
       "      <td></td>\n",
       "      <td>None</td>\n",
       "      <td>\"0.878533,53.269261\"; \"0.877681,53.235232\"; \"0...</td>\n",
       "      <td>574.0</td>\n",
       "    </tr>\n",
       "    <tr>\n",
       "      <th>GRGBW</th>\n",
       "      <td>GRGBW</td>\n",
       "      <td>Greater Gabbard</td>\n",
       "      <td>51.883892</td>\n",
       "      <td>1.935857</td>\n",
       "      <td>0.6%</td>\n",
       "      <td>3.0</td>\n",
       "      <td>None</td>\n",
       "      <td>\"2.00000000000006,51.9785000000001\", \"2.000000...</td>\n",
       "      <td></td>\n",
       "      <td>Greater Gabbard Offshore Winds</td>\n",
       "      <td>None</td>\n",
       "      <td>None</td>\n",
       "      <td>140.0</td>\n",
       "      <td></td>\n",
       "      <td>SWT-3.6-107</td>\n",
       "      <td></td>\n",
       "      <td></td>\n",
       "      <td>None</td>\n",
       "      <td>\"1.93168677500006,51.7828011890001\"; \"1.926872...</td>\n",
       "      <td>504.0</td>\n",
       "    </tr>\n",
       "    <tr>\n",
       "      <th>HDWAO</th>\n",
       "      <td>HDWAO</td>\n",
       "      <td>Hornsea One (Central Phase)</td>\n",
       "      <td>53.881312</td>\n",
       "      <td>1.912505</td>\n",
       "      <td></td>\n",
       "      <td></td>\n",
       "      <td>None</td>\n",
       "      <td>\"1.865947,53.939686\", \"1.881745,53.925366\", \"1...</td>\n",
       "      <td></td>\n",
       "      <td>Ørsted</td>\n",
       "      <td>None</td>\n",
       "      <td>None</td>\n",
       "      <td>58.0</td>\n",
       "      <td>Siemens Gamesa</td>\n",
       "      <td>SWT-7.0-154</td>\n",
       "      <td></td>\n",
       "      <td></td>\n",
       "      <td>None</td>\n",
       "      <td>\"1.841032,53.858145\"; \"1.854224,53.846186\"; \"1...</td>\n",
       "      <td>406.0</td>\n",
       "    </tr>\n",
       "  </tbody>\n",
       "</table>\n",
       "</div>"
      ],
      "text/plain": [
       "          Id                         Name   Latitude  Longitude  \\\n",
       "LARYO  LARYO               London Array 1  51.625553   1.496327   \n",
       "GYMRW  GYMRW                  Gwynt y Mor  53.458829  -3.584275   \n",
       "RCBKO  RCBKO                    Race Bank  53.276000   0.841000   \n",
       "GRGBW  GRGBW              Greater Gabbard  51.883892   1.935857   \n",
       "HDWAO  HDWAO  Hornsea One (Central Phase)  53.881312   1.912505   \n",
       "\n",
       "      OutputPercentage Output WindFarmImage  \\\n",
       "LARYO                0    0.0          None   \n",
       "GYMRW           13.02%   75.0          None   \n",
       "RCBKO            2.23%   12.8          None   \n",
       "GRGBW             0.6%    3.0          None   \n",
       "HDWAO                                  None   \n",
       "\n",
       "                                             Coordinates PolygonOverlay  \\\n",
       "LARYO  \"1.58153000000004,51.5774210000001\", \"1.528915...                  \n",
       "GYMRW  \"-3.59688699999998,53.4225210000001\", \"-3.6141...                  \n",
       "RCBKO  \"0.933186000000035,53.262006\", \"0.895833000000...                  \n",
       "GRGBW  \"2.00000000000006,51.9785000000001\", \"2.000000...                  \n",
       "HDWAO  \"1.865947,53.939686\", \"1.881745,53.925366\", \"1...                  \n",
       "\n",
       "                             Operator OperatorLogoLarge OperatorLogoSmall  \\\n",
       "LARYO            London Array Limited              None              None   \n",
       "GYMRW   Gwynt y Mor Offshore Windfarm              None              None   \n",
       "RCBKO     Race Bank Wind Farm Limited              None              None   \n",
       "GRGBW  Greater Gabbard Offshore Winds              None              None   \n",
       "HDWAO                          Ørsted              None              None   \n",
       "\n",
       "       NumberOfTurbines TurbineTypeBrand TurbineTypeModel OperatorWebsite  \\\n",
       "LARYO             175.0                       SWT-3.6-120                   \n",
       "GYMRW             160.0                       SWT-3.6-107                   \n",
       "RCBKO              91.0                       SWT-6.0–154                   \n",
       "GRGBW             140.0                       SWT-3.6-107                   \n",
       "HDWAO              58.0   Siemens Gamesa      SWT-7.0-154                   \n",
       "\n",
       "      OperatorWebsiteLabel WindFarmLocationImage  \\\n",
       "LARYO                                       None   \n",
       "GYMRW                                       None   \n",
       "RCBKO                                       None   \n",
       "GRGBW                                       None   \n",
       "HDWAO                                       None   \n",
       "\n",
       "                                       TurbineCordinates  SiteCapacity  \n",
       "LARYO  \"1.45759028700007,51.578589778\"; \"1.4503018610...         630.0  \n",
       "GYMRW  \"-3.61130184599995,53.490076946\"; \"-3.60047113...         576.0  \n",
       "RCBKO  \"0.878533,53.269261\"; \"0.877681,53.235232\"; \"0...         574.0  \n",
       "GRGBW  \"1.93168677500006,51.7828011890001\"; \"1.926872...         504.0  \n",
       "HDWAO  \"1.841032,53.858145\"; \"1.854224,53.846186\"; \"1...         406.0  "
      ]
     },
     "execution_count": 38,
     "metadata": {},
     "output_type": "execute_result"
    }
   ],
   "source": [
    "df_windfarms.sort_values('SiteCapacity', ascending=False).head()"
   ]
  },
  {
   "cell_type": "markdown",
   "metadata": {},
   "source": [
    "<br>\n",
    "\n",
    "### Plotting Generation of Single Windfarm\n",
    "\n",
    "We can use the Elexon we previously downloaded to look at what the load profile for London Array was on that day"
   ]
  },
  {
   "cell_type": "code",
   "execution_count": 39,
   "metadata": {},
   "outputs": [
    {
     "data": {
      "text/html": [
       "<div>\n",
       "<style scoped>\n",
       "    .dataframe tbody tr th:only-of-type {\n",
       "        vertical-align: middle;\n",
       "    }\n",
       "\n",
       "    .dataframe tbody tr th {\n",
       "        vertical-align: top;\n",
       "    }\n",
       "\n",
       "    .dataframe thead th {\n",
       "        text-align: right;\n",
       "    }\n",
       "</style>\n",
       "<table border=\"1\" class=\"dataframe\">\n",
       "  <thead>\n",
       "    <tr style=\"text-align: right;\">\n",
       "      <th></th>\n",
       "      <th>documentType</th>\n",
       "      <th>businessType</th>\n",
       "      <th>processType</th>\n",
       "      <th>timeSeriesID</th>\n",
       "      <th>quantity</th>\n",
       "      <th>curveType</th>\n",
       "      <th>resolution</th>\n",
       "      <th>settlementDate</th>\n",
       "      <th>settlementPeriod</th>\n",
       "      <th>powerSystemResourceType</th>\n",
       "      <th>registeredResourceEICCode</th>\n",
       "      <th>marketGenerationUnitEICCode</th>\n",
       "      <th>marketGenerationBMUId</th>\n",
       "      <th>marketGenerationNGCBMUId</th>\n",
       "      <th>bMUnitID</th>\n",
       "      <th>nGCBMUnitID</th>\n",
       "      <th>activeFlag</th>\n",
       "      <th>documentID</th>\n",
       "      <th>documentRevNum</th>\n",
       "    </tr>\n",
       "  </thead>\n",
       "  <tbody>\n",
       "    <tr>\n",
       "      <th>118</th>\n",
       "      <td>Actual generation</td>\n",
       "      <td>Production</td>\n",
       "      <td>Realised</td>\n",
       "      <td>ELX-EMFIP-AGOG-TS-302</td>\n",
       "      <td>72.618</td>\n",
       "      <td>Sequential fixed size block</td>\n",
       "      <td>PT30M</td>\n",
       "      <td>2018-12-01</td>\n",
       "      <td>1</td>\n",
       "      <td>Generation</td>\n",
       "      <td>48W00000LARYO-1Z</td>\n",
       "      <td>48W00000LARYO-1Z</td>\n",
       "      <td>T_LARYW-1</td>\n",
       "      <td>LARYO-1</td>\n",
       "      <td>T_LARYW-1</td>\n",
       "      <td>LARYO-1</td>\n",
       "      <td>Y</td>\n",
       "      <td>ELX-EMFIP-AGOG-19892046</td>\n",
       "      <td>1</td>\n",
       "    </tr>\n",
       "    <tr>\n",
       "      <th>119</th>\n",
       "      <td>Actual generation</td>\n",
       "      <td>Production</td>\n",
       "      <td>Realised</td>\n",
       "      <td>ELX-EMFIP-AGOG-TS-303</td>\n",
       "      <td>111.4</td>\n",
       "      <td>Sequential fixed size block</td>\n",
       "      <td>PT30M</td>\n",
       "      <td>2018-12-01</td>\n",
       "      <td>1</td>\n",
       "      <td>Generation</td>\n",
       "      <td>48W00000LARYO-2X</td>\n",
       "      <td>48W00000LARYO-2X</td>\n",
       "      <td>T_LARYW-2</td>\n",
       "      <td>LARYO-2</td>\n",
       "      <td>T_LARYW-2</td>\n",
       "      <td>LARYO-2</td>\n",
       "      <td>Y</td>\n",
       "      <td>ELX-EMFIP-AGOG-19892046</td>\n",
       "      <td>1</td>\n",
       "    </tr>\n",
       "    <tr>\n",
       "      <th>127</th>\n",
       "      <td>Actual generation</td>\n",
       "      <td>Production</td>\n",
       "      <td>Realised</td>\n",
       "      <td>ELX-EMFIP-AGOG-TS-304</td>\n",
       "      <td>118.02</td>\n",
       "      <td>Sequential fixed size block</td>\n",
       "      <td>PT30M</td>\n",
       "      <td>2018-12-01</td>\n",
       "      <td>1</td>\n",
       "      <td>Generation</td>\n",
       "      <td>48W00000LARYO-3V</td>\n",
       "      <td>48W00000LARYO-3V</td>\n",
       "      <td>T_LARYW-3</td>\n",
       "      <td>LARYO-3</td>\n",
       "      <td>T_LARYW-3</td>\n",
       "      <td>LARYO-3</td>\n",
       "      <td>Y</td>\n",
       "      <td>ELX-EMFIP-AGOG-19892046</td>\n",
       "      <td>1</td>\n",
       "    </tr>\n",
       "    <tr>\n",
       "      <th>128</th>\n",
       "      <td>Actual generation</td>\n",
       "      <td>Production</td>\n",
       "      <td>Realised</td>\n",
       "      <td>ELX-EMFIP-AGOG-TS-305</td>\n",
       "      <td>110.82</td>\n",
       "      <td>Sequential fixed size block</td>\n",
       "      <td>PT30M</td>\n",
       "      <td>2018-12-01</td>\n",
       "      <td>1</td>\n",
       "      <td>Generation</td>\n",
       "      <td>48W00000LARYO-4T</td>\n",
       "      <td>48W00000LARYO-4T</td>\n",
       "      <td>T_LARYW-4</td>\n",
       "      <td>LARYO-4</td>\n",
       "      <td>T_LARYW-4</td>\n",
       "      <td>LARYO-4</td>\n",
       "      <td>Y</td>\n",
       "      <td>ELX-EMFIP-AGOG-19892046</td>\n",
       "      <td>1</td>\n",
       "    </tr>\n",
       "    <tr>\n",
       "      <th>247</th>\n",
       "      <td>Actual generation</td>\n",
       "      <td>Production</td>\n",
       "      <td>Realised</td>\n",
       "      <td>ELX-EMFIP-AGOG-TS-665</td>\n",
       "      <td>78.64</td>\n",
       "      <td>Sequential fixed size block</td>\n",
       "      <td>PT30M</td>\n",
       "      <td>2018-12-01</td>\n",
       "      <td>2</td>\n",
       "      <td>Generation</td>\n",
       "      <td>48W00000LARYO-1Z</td>\n",
       "      <td>48W00000LARYO-1Z</td>\n",
       "      <td>T_LARYW-1</td>\n",
       "      <td>LARYO-1</td>\n",
       "      <td>T_LARYW-1</td>\n",
       "      <td>LARYO-1</td>\n",
       "      <td>Y</td>\n",
       "      <td>ELX-EMFIP-AGOG-19892046</td>\n",
       "      <td>1</td>\n",
       "    </tr>\n",
       "  </tbody>\n",
       "</table>\n",
       "</div>"
      ],
      "text/plain": [
       "          documentType businessType processType           timeSeriesID  \\\n",
       "118  Actual generation   Production    Realised  ELX-EMFIP-AGOG-TS-302   \n",
       "119  Actual generation   Production    Realised  ELX-EMFIP-AGOG-TS-303   \n",
       "127  Actual generation   Production    Realised  ELX-EMFIP-AGOG-TS-304   \n",
       "128  Actual generation   Production    Realised  ELX-EMFIP-AGOG-TS-305   \n",
       "247  Actual generation   Production    Realised  ELX-EMFIP-AGOG-TS-665   \n",
       "\n",
       "    quantity                    curveType resolution settlementDate  \\\n",
       "118   72.618  Sequential fixed size block      PT30M     2018-12-01   \n",
       "119    111.4  Sequential fixed size block      PT30M     2018-12-01   \n",
       "127   118.02  Sequential fixed size block      PT30M     2018-12-01   \n",
       "128   110.82  Sequential fixed size block      PT30M     2018-12-01   \n",
       "247    78.64  Sequential fixed size block      PT30M     2018-12-01   \n",
       "\n",
       "    settlementPeriod powerSystemResourceType registeredResourceEICCode  \\\n",
       "118                1              Generation          48W00000LARYO-1Z   \n",
       "119                1              Generation          48W00000LARYO-2X   \n",
       "127                1              Generation          48W00000LARYO-3V   \n",
       "128                1              Generation          48W00000LARYO-4T   \n",
       "247                2              Generation          48W00000LARYO-1Z   \n",
       "\n",
       "    marketGenerationUnitEICCode marketGenerationBMUId  \\\n",
       "118            48W00000LARYO-1Z             T_LARYW-1   \n",
       "119            48W00000LARYO-2X             T_LARYW-2   \n",
       "127            48W00000LARYO-3V             T_LARYW-3   \n",
       "128            48W00000LARYO-4T             T_LARYW-4   \n",
       "247            48W00000LARYO-1Z             T_LARYW-1   \n",
       "\n",
       "    marketGenerationNGCBMUId   bMUnitID nGCBMUnitID activeFlag  \\\n",
       "118                  LARYO-1  T_LARYW-1     LARYO-1          Y   \n",
       "119                  LARYO-2  T_LARYW-2     LARYO-2          Y   \n",
       "127                  LARYO-3  T_LARYW-3     LARYO-3          Y   \n",
       "128                  LARYO-4  T_LARYW-4     LARYO-4          Y   \n",
       "247                  LARYO-1  T_LARYW-1     LARYO-1          Y   \n",
       "\n",
       "                  documentID documentRevNum  \n",
       "118  ELX-EMFIP-AGOG-19892046              1  \n",
       "119  ELX-EMFIP-AGOG-19892046              1  \n",
       "127  ELX-EMFIP-AGOG-19892046              1  \n",
       "128  ELX-EMFIP-AGOG-19892046              1  \n",
       "247  ELX-EMFIP-AGOG-19892046              1  "
      ]
     },
     "execution_count": 39,
     "metadata": {},
     "output_type": "execute_result"
    }
   ],
   "source": [
    "df_LARYO = df_gen[df_gen.nGCBMUnitID.str.contains('LARYO')].copy()\n",
    "df_LARYO.head()"
   ]
  },
  {
   "cell_type": "code",
   "execution_count": 40,
   "metadata": {},
   "outputs": [
    {
     "data": {
      "text/plain": [
       "1000   2018-12-01 04:00:00\n",
       "1001   2018-12-01 04:00:00\n",
       "1002   2018-12-01 04:00:00\n",
       "1003   2018-12-01 04:00:00\n",
       "1004   2018-12-01 04:00:00\n",
       "1005   2018-12-01 04:00:00\n",
       "dtype: datetime64[ns]"
      ]
     },
     "execution_count": 40,
     "metadata": {},
     "output_type": "execute_result"
    }
   ],
   "source": [
    "def form_datetime(df_gen, SP_col='settlementPeriod', date_col='settlementDate'):\n",
    "    s_SP = df_gen[SP_col].astype(int)\n",
    "    s_hour = ((s_SP - 1) / 2)\n",
    "    s_half_hour = ((s_SP - 1) % 2)*30\n",
    "\n",
    "    s_datetime = pd.to_datetime(df_gen[date_col] + ' ' + s_hour.astype(str) + ':' + s_half_hour.astype(str))\n",
    "    return s_datetime\n",
    "\n",
    "s_datetime = form_datetime(df_gen)\n",
    "s_datetime.loc[1000:1005]"
   ]
  },
  {
   "cell_type": "code",
   "execution_count": 41,
   "metadata": {},
   "outputs": [
    {
     "data": {
      "text/html": [
       "<div>\n",
       "<style scoped>\n",
       "    .dataframe tbody tr th:only-of-type {\n",
       "        vertical-align: middle;\n",
       "    }\n",
       "\n",
       "    .dataframe tbody tr th {\n",
       "        vertical-align: top;\n",
       "    }\n",
       "\n",
       "    .dataframe thead th {\n",
       "        text-align: right;\n",
       "    }\n",
       "</style>\n",
       "<table border=\"1\" class=\"dataframe\">\n",
       "  <thead>\n",
       "    <tr style=\"text-align: right;\">\n",
       "      <th></th>\n",
       "      <th>datetime</th>\n",
       "      <th>quantity</th>\n",
       "      <th>nGCBMUnitID</th>\n",
       "    </tr>\n",
       "  </thead>\n",
       "  <tbody>\n",
       "    <tr>\n",
       "      <th>118</th>\n",
       "      <td>2018-12-01 00:00:00</td>\n",
       "      <td>72.618</td>\n",
       "      <td>LARYO-1</td>\n",
       "    </tr>\n",
       "    <tr>\n",
       "      <th>119</th>\n",
       "      <td>2018-12-01 00:00:00</td>\n",
       "      <td>111.4</td>\n",
       "      <td>LARYO-2</td>\n",
       "    </tr>\n",
       "    <tr>\n",
       "      <th>127</th>\n",
       "      <td>2018-12-01 00:00:00</td>\n",
       "      <td>118.02</td>\n",
       "      <td>LARYO-3</td>\n",
       "    </tr>\n",
       "    <tr>\n",
       "      <th>128</th>\n",
       "      <td>2018-12-01 00:00:00</td>\n",
       "      <td>110.82</td>\n",
       "      <td>LARYO-4</td>\n",
       "    </tr>\n",
       "    <tr>\n",
       "      <th>247</th>\n",
       "      <td>2018-12-01 00:30:00</td>\n",
       "      <td>78.64</td>\n",
       "      <td>LARYO-1</td>\n",
       "    </tr>\n",
       "  </tbody>\n",
       "</table>\n",
       "</div>"
      ],
      "text/plain": [
       "               datetime quantity nGCBMUnitID\n",
       "118 2018-12-01 00:00:00   72.618     LARYO-1\n",
       "119 2018-12-01 00:00:00    111.4     LARYO-2\n",
       "127 2018-12-01 00:00:00   118.02     LARYO-3\n",
       "128 2018-12-01 00:00:00   110.82     LARYO-4\n",
       "247 2018-12-01 00:30:00    78.64     LARYO-1"
      ]
     },
     "execution_count": 41,
     "metadata": {},
     "output_type": "execute_result"
    }
   ],
   "source": [
    "df_LARYO['datetime'] = s_datetime\n",
    "df_LARYO[['datetime', 'quantity', 'nGCBMUnitID']].head()"
   ]
  },
  {
   "cell_type": "code",
   "execution_count": 42,
   "metadata": {},
   "outputs": [
    {
     "data": {
      "text/html": [
       "<div>\n",
       "<style scoped>\n",
       "    .dataframe tbody tr th:only-of-type {\n",
       "        vertical-align: middle;\n",
       "    }\n",
       "\n",
       "    .dataframe tbody tr th {\n",
       "        vertical-align: top;\n",
       "    }\n",
       "\n",
       "    .dataframe thead th {\n",
       "        text-align: right;\n",
       "    }\n",
       "</style>\n",
       "<table border=\"1\" class=\"dataframe\">\n",
       "  <thead>\n",
       "    <tr style=\"text-align: right;\">\n",
       "      <th>nGCBMUnitID</th>\n",
       "      <th>LARYO-1</th>\n",
       "      <th>LARYO-2</th>\n",
       "      <th>LARYO-3</th>\n",
       "      <th>LARYO-4</th>\n",
       "    </tr>\n",
       "    <tr>\n",
       "      <th>datetime</th>\n",
       "      <th></th>\n",
       "      <th></th>\n",
       "      <th></th>\n",
       "      <th></th>\n",
       "    </tr>\n",
       "  </thead>\n",
       "  <tbody>\n",
       "    <tr>\n",
       "      <th>2018-12-01 00:00:00</th>\n",
       "      <td>72.618</td>\n",
       "      <td>111.40</td>\n",
       "      <td>118.02</td>\n",
       "      <td>110.820</td>\n",
       "    </tr>\n",
       "    <tr>\n",
       "      <th>2018-12-01 00:30:00</th>\n",
       "      <td>78.640</td>\n",
       "      <td>115.14</td>\n",
       "      <td>118.38</td>\n",
       "      <td>108.580</td>\n",
       "    </tr>\n",
       "    <tr>\n",
       "      <th>2018-12-01 01:00:00</th>\n",
       "      <td>81.380</td>\n",
       "      <td>119.06</td>\n",
       "      <td>125.42</td>\n",
       "      <td>114.118</td>\n",
       "    </tr>\n",
       "    <tr>\n",
       "      <th>2018-12-01 01:30:00</th>\n",
       "      <td>71.960</td>\n",
       "      <td>107.76</td>\n",
       "      <td>98.96</td>\n",
       "      <td>93.760</td>\n",
       "    </tr>\n",
       "    <tr>\n",
       "      <th>2018-12-01 02:00:00</th>\n",
       "      <td>53.020</td>\n",
       "      <td>88.90</td>\n",
       "      <td>73.80</td>\n",
       "      <td>70.698</td>\n",
       "    </tr>\n",
       "  </tbody>\n",
       "</table>\n",
       "</div>"
      ],
      "text/plain": [
       "nGCBMUnitID          LARYO-1  LARYO-2  LARYO-3  LARYO-4\n",
       "datetime                                               \n",
       "2018-12-01 00:00:00   72.618   111.40   118.02  110.820\n",
       "2018-12-01 00:30:00   78.640   115.14   118.38  108.580\n",
       "2018-12-01 01:00:00   81.380   119.06   125.42  114.118\n",
       "2018-12-01 01:30:00   71.960   107.76    98.96   93.760\n",
       "2018-12-01 02:00:00   53.020    88.90    73.80   70.698"
      ]
     },
     "execution_count": 42,
     "metadata": {},
     "output_type": "execute_result"
    }
   ],
   "source": [
    "df_LARYOs = df_LARYO[['datetime', 'quantity', 'nGCBMUnitID']].copy()\n",
    "df_LARYOs['quantity'] = df_LARYOs['quantity'].astype(float)\n",
    "df_LARYOs = df_LARYOs.pivot('datetime', 'nGCBMUnitID', 'quantity')\n",
    "df_LARYOs.head()"
   ]
  },
  {
   "cell_type": "code",
   "execution_count": 43,
   "metadata": {},
   "outputs": [
    {
     "data": {
      "text/plain": [
       "Text(0, 0.5, 'MW')"
      ]
     },
     "execution_count": 43,
     "metadata": {},
     "output_type": "execute_result"
    },
    {
     "data": {
      "image/png": "[encoded data removed]",
      "text/plain": [
       "<Figure size 432x288 with 1 Axes>"
      ]
     },
     "metadata": {
      "needs_background": "light"
     },
     "output_type": "display_data"
    }
   ],
   "source": [
    "df_LARYOs.plot()\n",
    "plt.legend(frameon=False)\n",
    "plt.ylabel('MW')"
   ]
  },
  {
   "cell_type": "code",
   "execution_count": null,
   "metadata": {},
   "outputs": [],
   "source": []
  },
  {
   "cell_type": "code",
   "execution_count": null,
   "metadata": {},
   "outputs": [],
   "source": []
  },
  {
   "cell_type": "code",
   "execution_count": null,
   "metadata": {},
   "outputs": [],
   "source": []
  }
 ],
 "metadata": {
  "kernelspec": {
   "display_name": "Python 3",
   "language": "python",
   "name": "python3"
  },
  "language_info": {
   "codemirror_mode": {
    "name": "ipython",
    "version": 3
   },
   "file_extension": ".py",
   "mimetype": "text/x-python",
   "name": "python",
   "nbconvert_exporter": "python",
   "pygments_lexer": "ipython3",
   "version": "3.7.3"
  }
 },
 "nbformat": 4,
 "nbformat_minor": 2
}
