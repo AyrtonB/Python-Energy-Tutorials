{
 "cells": [
  {
   "cell_type": "markdown",
   "metadata": {},
   "source": [
    "# Scikit Learn Tutorial\n",
    "\n",
    "This tutorial is intended to get the reader up to speed with the data science workflow using Scikit Learn. \n",
    "\n",
    "The main areas we will cover are:\n",
    "* Feature engineering\n",
    "* Pre-processing data\n",
    "* Running and evaluating models\n",
    "\n",
    "The Scikit Learn API (application programming interface) makes it easy to quickly swap and compare models. For this reason the tutorial will cover linear regression and random forests, with the same overarching method being applicable to other models.\n",
    "\n",
    "Scikit Learn documentation -> https://scikit-learn.org/stable/\n",
    "\n",
    "<br>\n",
    "\n",
    "#### The Data Science Workflow\n",
    "\n",
    "0a) Feature engineering\n",
    "\n",
    "0b) Pre-processing data\n",
    "\n",
    "1) Separate data into test/train split\n",
    "\n",
    "2) Create model\n",
    "\n",
    "3) Evaluate model\n",
    "\n",
    "4) Iterate creation and evaluation until accuracy is good enough\n",
    "\n",
    "<img src='img/workflow.PNG' width='800'>\n",
    "\n",
    "<br>\n",
    "\n",
    "### Imports"
   ]
  },
  {
   "cell_type": "code",
   "execution_count": 1,
   "metadata": {},
   "outputs": [],
   "source": [
    "import numpy as np\n",
    "import pandas as pd\n",
    "\n",
    "import matplotlib.pyplot as plt\n",
    "import seaborn as sns"
   ]
  },
  {
   "cell_type": "markdown",
   "metadata": {},
   "source": [
    "<br>\n",
    "\n",
    "### Reading in Data"
   ]
  },
  {
   "cell_type": "code",
   "execution_count": 2,
   "metadata": {},
   "outputs": [
    {
     "data": {
      "text/html": [
       "<div>\n",
       "<style scoped>\n",
       "    .dataframe tbody tr th:only-of-type {\n",
       "        vertical-align: middle;\n",
       "    }\n",
       "\n",
       "    .dataframe tbody tr th {\n",
       "        vertical-align: top;\n",
       "    }\n",
       "\n",
       "    .dataframe thead th {\n",
       "        text-align: right;\n",
       "    }\n",
       "</style>\n",
       "<table border=\"1\" class=\"dataframe\">\n",
       "  <thead>\n",
       "    <tr style=\"text-align: right;\">\n",
       "      <th></th>\n",
       "      <th>datetime</th>\n",
       "      <th>price</th>\n",
       "      <th>demand</th>\n",
       "      <th>biomass</th>\n",
       "      <th>coal</th>\n",
       "      <th>gas</th>\n",
       "      <th>hydro</th>\n",
       "      <th>nuclear</th>\n",
       "      <th>solar</th>\n",
       "      <th>wind</th>\n",
       "      <th>dutch</th>\n",
       "      <th>french</th>\n",
       "      <th>irish</th>\n",
       "      <th>pumped</th>\n",
       "    </tr>\n",
       "  </thead>\n",
       "  <tbody>\n",
       "    <tr>\n",
       "      <th>0</th>\n",
       "      <td>2015-12-31 00:30:00</td>\n",
       "      <td>40.00</td>\n",
       "      <td>26.935</td>\n",
       "      <td>2.042</td>\n",
       "      <td>4.213</td>\n",
       "      <td>6.064</td>\n",
       "      <td>0.999</td>\n",
       "      <td>7.681</td>\n",
       "      <td>0.0</td>\n",
       "      <td>3.963</td>\n",
       "      <td>0.793</td>\n",
       "      <td>1.621</td>\n",
       "      <td>-0.044</td>\n",
       "      <td>-0.397</td>\n",
       "    </tr>\n",
       "    <tr>\n",
       "      <th>1</th>\n",
       "      <td>2015-12-31 01:00:00</td>\n",
       "      <td>40.00</td>\n",
       "      <td>26.254</td>\n",
       "      <td>2.043</td>\n",
       "      <td>4.236</td>\n",
       "      <td>5.860</td>\n",
       "      <td>1.004</td>\n",
       "      <td>7.677</td>\n",
       "      <td>0.0</td>\n",
       "      <td>3.986</td>\n",
       "      <td>0.794</td>\n",
       "      <td>1.622</td>\n",
       "      <td>0.103</td>\n",
       "      <td>-1.071</td>\n",
       "    </tr>\n",
       "    <tr>\n",
       "      <th>2</th>\n",
       "      <td>2015-12-31 01:30:00</td>\n",
       "      <td>45.00</td>\n",
       "      <td>25.443</td>\n",
       "      <td>2.043</td>\n",
       "      <td>4.191</td>\n",
       "      <td>5.332</td>\n",
       "      <td>1.003</td>\n",
       "      <td>7.679</td>\n",
       "      <td>0.0</td>\n",
       "      <td>4.172</td>\n",
       "      <td>0.806</td>\n",
       "      <td>1.621</td>\n",
       "      <td>0.001</td>\n",
       "      <td>-1.405</td>\n",
       "    </tr>\n",
       "    <tr>\n",
       "      <th>3</th>\n",
       "      <td>2015-12-31 02:00:00</td>\n",
       "      <td>41.89</td>\n",
       "      <td>24.744</td>\n",
       "      <td>2.043</td>\n",
       "      <td>4.012</td>\n",
       "      <td>4.869</td>\n",
       "      <td>1.000</td>\n",
       "      <td>7.697</td>\n",
       "      <td>0.0</td>\n",
       "      <td>4.216</td>\n",
       "      <td>0.781</td>\n",
       "      <td>1.621</td>\n",
       "      <td>-0.093</td>\n",
       "      <td>-1.402</td>\n",
       "    </tr>\n",
       "    <tr>\n",
       "      <th>4</th>\n",
       "      <td>2015-12-31 02:30:00</td>\n",
       "      <td>42.00</td>\n",
       "      <td>24.196</td>\n",
       "      <td>2.044</td>\n",
       "      <td>3.899</td>\n",
       "      <td>4.279</td>\n",
       "      <td>0.998</td>\n",
       "      <td>7.705</td>\n",
       "      <td>0.0</td>\n",
       "      <td>4.339</td>\n",
       "      <td>0.773</td>\n",
       "      <td>1.621</td>\n",
       "      <td>-0.063</td>\n",
       "      <td>-1.399</td>\n",
       "    </tr>\n",
       "  </tbody>\n",
       "</table>\n",
       "</div>"
      ],
      "text/plain": [
       "             datetime  price  demand  biomass   coal    gas  hydro  nuclear   \\\n",
       "0 2015-12-31 00:30:00  40.00  26.935    2.042  4.213  6.064  0.999     7.681   \n",
       "1 2015-12-31 01:00:00  40.00  26.254    2.043  4.236  5.860  1.004     7.677   \n",
       "2 2015-12-31 01:30:00  45.00  25.443    2.043  4.191  5.332  1.003     7.679   \n",
       "3 2015-12-31 02:00:00  41.89  24.744    2.043  4.012  4.869  1.000     7.697   \n",
       "4 2015-12-31 02:30:00  42.00  24.196    2.044  3.899  4.279  0.998     7.705   \n",
       "\n",
       "   solar   wind  dutch  french  irish  pumped  \n",
       "0    0.0  3.963  0.793   1.621 -0.044  -0.397  \n",
       "1    0.0  3.986  0.794   1.622  0.103  -1.071  \n",
       "2    0.0  4.172  0.806   1.621  0.001  -1.405  \n",
       "3    0.0  4.216  0.781   1.621 -0.093  -1.402  \n",
       "4    0.0  4.339  0.773   1.621 -0.063  -1.399  "
      ]
     },
     "execution_count": 2,
     "metadata": {},
     "output_type": "execute_result"
    }
   ],
   "source": [
    "df_DAM = pd.read_csv('data/df_energy.csv', parse_dates=['datetime'])\n",
    "df_DAM.head()"
   ]
  },
  {
   "cell_type": "markdown",
   "metadata": {},
   "source": [
    "<br>\n",
    "\n",
    "### Feature Engineering\n",
    "\n",
    "Feature engineering is often one of the most important parts of machine learning, it's where we create new variables from the ones we currently have.\n",
    "\n",
    "<br>\n",
    "\n",
    "Electricity is traded in half hour blocks called Settlement Periods (SP). To make the time component easier for the machine learning algorithm to understand we'll use the SP instead of time."
   ]
  },
  {
   "cell_type": "code",
   "execution_count": 3,
   "metadata": {},
   "outputs": [
    {
     "data": {
      "text/html": [
       "<div>\n",
       "<style scoped>\n",
       "    .dataframe tbody tr th:only-of-type {\n",
       "        vertical-align: middle;\n",
       "    }\n",
       "\n",
       "    .dataframe tbody tr th {\n",
       "        vertical-align: top;\n",
       "    }\n",
       "\n",
       "    .dataframe thead th {\n",
       "        text-align: right;\n",
       "    }\n",
       "</style>\n",
       "<table border=\"1\" class=\"dataframe\">\n",
       "  <thead>\n",
       "    <tr style=\"text-align: right;\">\n",
       "      <th></th>\n",
       "      <th>datetime</th>\n",
       "      <th>price</th>\n",
       "      <th>demand</th>\n",
       "      <th>biomass</th>\n",
       "      <th>coal</th>\n",
       "      <th>gas</th>\n",
       "      <th>hydro</th>\n",
       "      <th>nuclear</th>\n",
       "      <th>solar</th>\n",
       "      <th>wind</th>\n",
       "      <th>dutch</th>\n",
       "      <th>french</th>\n",
       "      <th>irish</th>\n",
       "      <th>pumped</th>\n",
       "      <th>SP</th>\n",
       "    </tr>\n",
       "  </thead>\n",
       "  <tbody>\n",
       "    <tr>\n",
       "      <th>0</th>\n",
       "      <td>2015-12-31 00:30:00</td>\n",
       "      <td>40.00</td>\n",
       "      <td>26.935</td>\n",
       "      <td>2.042</td>\n",
       "      <td>4.213</td>\n",
       "      <td>6.064</td>\n",
       "      <td>0.999</td>\n",
       "      <td>7.681</td>\n",
       "      <td>0.0</td>\n",
       "      <td>3.963</td>\n",
       "      <td>0.793</td>\n",
       "      <td>1.621</td>\n",
       "      <td>-0.044</td>\n",
       "      <td>-0.397</td>\n",
       "      <td>2</td>\n",
       "    </tr>\n",
       "    <tr>\n",
       "      <th>1</th>\n",
       "      <td>2015-12-31 01:00:00</td>\n",
       "      <td>40.00</td>\n",
       "      <td>26.254</td>\n",
       "      <td>2.043</td>\n",
       "      <td>4.236</td>\n",
       "      <td>5.860</td>\n",
       "      <td>1.004</td>\n",
       "      <td>7.677</td>\n",
       "      <td>0.0</td>\n",
       "      <td>3.986</td>\n",
       "      <td>0.794</td>\n",
       "      <td>1.622</td>\n",
       "      <td>0.103</td>\n",
       "      <td>-1.071</td>\n",
       "      <td>3</td>\n",
       "    </tr>\n",
       "    <tr>\n",
       "      <th>2</th>\n",
       "      <td>2015-12-31 01:30:00</td>\n",
       "      <td>45.00</td>\n",
       "      <td>25.443</td>\n",
       "      <td>2.043</td>\n",
       "      <td>4.191</td>\n",
       "      <td>5.332</td>\n",
       "      <td>1.003</td>\n",
       "      <td>7.679</td>\n",
       "      <td>0.0</td>\n",
       "      <td>4.172</td>\n",
       "      <td>0.806</td>\n",
       "      <td>1.621</td>\n",
       "      <td>0.001</td>\n",
       "      <td>-1.405</td>\n",
       "      <td>4</td>\n",
       "    </tr>\n",
       "    <tr>\n",
       "      <th>3</th>\n",
       "      <td>2015-12-31 02:00:00</td>\n",
       "      <td>41.89</td>\n",
       "      <td>24.744</td>\n",
       "      <td>2.043</td>\n",
       "      <td>4.012</td>\n",
       "      <td>4.869</td>\n",
       "      <td>1.000</td>\n",
       "      <td>7.697</td>\n",
       "      <td>0.0</td>\n",
       "      <td>4.216</td>\n",
       "      <td>0.781</td>\n",
       "      <td>1.621</td>\n",
       "      <td>-0.093</td>\n",
       "      <td>-1.402</td>\n",
       "      <td>5</td>\n",
       "    </tr>\n",
       "    <tr>\n",
       "      <th>4</th>\n",
       "      <td>2015-12-31 02:30:00</td>\n",
       "      <td>42.00</td>\n",
       "      <td>24.196</td>\n",
       "      <td>2.044</td>\n",
       "      <td>3.899</td>\n",
       "      <td>4.279</td>\n",
       "      <td>0.998</td>\n",
       "      <td>7.705</td>\n",
       "      <td>0.0</td>\n",
       "      <td>4.339</td>\n",
       "      <td>0.773</td>\n",
       "      <td>1.621</td>\n",
       "      <td>-0.063</td>\n",
       "      <td>-1.399</td>\n",
       "      <td>6</td>\n",
       "    </tr>\n",
       "  </tbody>\n",
       "</table>\n",
       "</div>"
      ],
      "text/plain": [
       "             datetime  price  demand  biomass   coal    gas  hydro  nuclear   \\\n",
       "0 2015-12-31 00:30:00  40.00  26.935    2.042  4.213  6.064  0.999     7.681   \n",
       "1 2015-12-31 01:00:00  40.00  26.254    2.043  4.236  5.860  1.004     7.677   \n",
       "2 2015-12-31 01:30:00  45.00  25.443    2.043  4.191  5.332  1.003     7.679   \n",
       "3 2015-12-31 02:00:00  41.89  24.744    2.043  4.012  4.869  1.000     7.697   \n",
       "4 2015-12-31 02:30:00  42.00  24.196    2.044  3.899  4.279  0.998     7.705   \n",
       "\n",
       "   solar   wind  dutch  french  irish  pumped  SP  \n",
       "0    0.0  3.963  0.793   1.621 -0.044  -0.397   2  \n",
       "1    0.0  3.986  0.794   1.622  0.103  -1.071   3  \n",
       "2    0.0  4.172  0.806   1.621  0.001  -1.405   4  \n",
       "3    0.0  4.216  0.781   1.621 -0.093  -1.402   5  \n",
       "4    0.0  4.339  0.773   1.621 -0.063  -1.399   6  "
      ]
     },
     "execution_count": 3,
     "metadata": {},
     "output_type": "execute_result"
    }
   ],
   "source": [
    "s_hour = df_DAM.datetime.dt.hour\n",
    "s_minutes = df_DAM.datetime.dt.minute\n",
    "\n",
    "s_SP = s_hour*2 + s_minutes/30 + 1\n",
    "df_DAM['SP'] = s_SP\n",
    "df_DAM['SP'] = df_DAM['SP'].astype('int')\n",
    "\n",
    "df_DAM.head()"
   ]
  },
  {
   "cell_type": "markdown",
   "metadata": {},
   "source": [
    "<br> \n",
    "\n",
    "There's often a seasonal component in electricity prices so we'll also tell the algorithm whether it's winter or not. We'll define winter as being from October to March.\n",
    "\n",
    "We'll use a dictionary to 'map' the month values (1-12) to winter/summer. We'll use a 'dummy' variable where 1=Winter and 0=Summer.\n",
    "\n",
    "Dictionarys contain unique 'keys' which correspond to defined values "
   ]
  },
  {
   "cell_type": "code",
   "execution_count": 4,
   "metadata": {},
   "outputs": [
    {
     "name": "stdout",
     "output_type": "stream",
     "text": [
      "{1: 'winter'}\n",
      "winter\n"
     ]
    }
   ],
   "source": [
    "dictionary = {\n",
    "    1 : 'winter'\n",
    "}\n",
    "\n",
    "print(dictionary)\n",
    "print(dictionary[1])"
   ]
  },
  {
   "cell_type": "code",
   "execution_count": 5,
   "metadata": {},
   "outputs": [
    {
     "data": {
      "text/plain": [
       "{10: 1, 11: 1, 12: 1, 1: 1, 2: 1, 3: 1, 4: 0, 5: 0, 6: 0, 7: 0, 8: 0, 9: 0}"
      ]
     },
     "execution_count": 5,
     "metadata": {},
     "output_type": "execute_result"
    }
   ],
   "source": [
    "winter_months = [10, 11, 12, 1, 2, 3]\n",
    "summer_months = [4, 5, 6, 7, 8, 9]\n",
    "\n",
    "all_months = winter_months + summer_months\n",
    "seasons = [1]*6 + [0]*6                            # Here we're assigning winter '1' and summer '0'\n",
    "\n",
    "month_to_season = dict(zip(all_months, seasons))\n",
    "month_to_season"
   ]
  },
  {
   "cell_type": "code",
   "execution_count": 6,
   "metadata": {},
   "outputs": [
    {
     "data": {
      "text/html": [
       "<div>\n",
       "<style scoped>\n",
       "    .dataframe tbody tr th:only-of-type {\n",
       "        vertical-align: middle;\n",
       "    }\n",
       "\n",
       "    .dataframe tbody tr th {\n",
       "        vertical-align: top;\n",
       "    }\n",
       "\n",
       "    .dataframe thead th {\n",
       "        text-align: right;\n",
       "    }\n",
       "</style>\n",
       "<table border=\"1\" class=\"dataframe\">\n",
       "  <thead>\n",
       "    <tr style=\"text-align: right;\">\n",
       "      <th></th>\n",
       "      <th>datetime</th>\n",
       "      <th>price</th>\n",
       "      <th>demand</th>\n",
       "      <th>biomass</th>\n",
       "      <th>coal</th>\n",
       "      <th>gas</th>\n",
       "      <th>hydro</th>\n",
       "      <th>nuclear</th>\n",
       "      <th>solar</th>\n",
       "      <th>wind</th>\n",
       "      <th>dutch</th>\n",
       "      <th>french</th>\n",
       "      <th>irish</th>\n",
       "      <th>pumped</th>\n",
       "      <th>SP</th>\n",
       "      <th>season</th>\n",
       "    </tr>\n",
       "  </thead>\n",
       "  <tbody>\n",
       "    <tr>\n",
       "      <th>0</th>\n",
       "      <td>2015-12-31 00:30:00</td>\n",
       "      <td>40.00</td>\n",
       "      <td>26.935</td>\n",
       "      <td>2.042</td>\n",
       "      <td>4.213</td>\n",
       "      <td>6.064</td>\n",
       "      <td>0.999</td>\n",
       "      <td>7.681</td>\n",
       "      <td>0.0</td>\n",
       "      <td>3.963</td>\n",
       "      <td>0.793</td>\n",
       "      <td>1.621</td>\n",
       "      <td>-0.044</td>\n",
       "      <td>-0.397</td>\n",
       "      <td>2</td>\n",
       "      <td>1</td>\n",
       "    </tr>\n",
       "    <tr>\n",
       "      <th>1</th>\n",
       "      <td>2015-12-31 01:00:00</td>\n",
       "      <td>40.00</td>\n",
       "      <td>26.254</td>\n",
       "      <td>2.043</td>\n",
       "      <td>4.236</td>\n",
       "      <td>5.860</td>\n",
       "      <td>1.004</td>\n",
       "      <td>7.677</td>\n",
       "      <td>0.0</td>\n",
       "      <td>3.986</td>\n",
       "      <td>0.794</td>\n",
       "      <td>1.622</td>\n",
       "      <td>0.103</td>\n",
       "      <td>-1.071</td>\n",
       "      <td>3</td>\n",
       "      <td>1</td>\n",
       "    </tr>\n",
       "    <tr>\n",
       "      <th>2</th>\n",
       "      <td>2015-12-31 01:30:00</td>\n",
       "      <td>45.00</td>\n",
       "      <td>25.443</td>\n",
       "      <td>2.043</td>\n",
       "      <td>4.191</td>\n",
       "      <td>5.332</td>\n",
       "      <td>1.003</td>\n",
       "      <td>7.679</td>\n",
       "      <td>0.0</td>\n",
       "      <td>4.172</td>\n",
       "      <td>0.806</td>\n",
       "      <td>1.621</td>\n",
       "      <td>0.001</td>\n",
       "      <td>-1.405</td>\n",
       "      <td>4</td>\n",
       "      <td>1</td>\n",
       "    </tr>\n",
       "    <tr>\n",
       "      <th>3</th>\n",
       "      <td>2015-12-31 02:00:00</td>\n",
       "      <td>41.89</td>\n",
       "      <td>24.744</td>\n",
       "      <td>2.043</td>\n",
       "      <td>4.012</td>\n",
       "      <td>4.869</td>\n",
       "      <td>1.000</td>\n",
       "      <td>7.697</td>\n",
       "      <td>0.0</td>\n",
       "      <td>4.216</td>\n",
       "      <td>0.781</td>\n",
       "      <td>1.621</td>\n",
       "      <td>-0.093</td>\n",
       "      <td>-1.402</td>\n",
       "      <td>5</td>\n",
       "      <td>1</td>\n",
       "    </tr>\n",
       "    <tr>\n",
       "      <th>4</th>\n",
       "      <td>2015-12-31 02:30:00</td>\n",
       "      <td>42.00</td>\n",
       "      <td>24.196</td>\n",
       "      <td>2.044</td>\n",
       "      <td>3.899</td>\n",
       "      <td>4.279</td>\n",
       "      <td>0.998</td>\n",
       "      <td>7.705</td>\n",
       "      <td>0.0</td>\n",
       "      <td>4.339</td>\n",
       "      <td>0.773</td>\n",
       "      <td>1.621</td>\n",
       "      <td>-0.063</td>\n",
       "      <td>-1.399</td>\n",
       "      <td>6</td>\n",
       "      <td>1</td>\n",
       "    </tr>\n",
       "  </tbody>\n",
       "</table>\n",
       "</div>"
      ],
      "text/plain": [
       "             datetime  price  demand  biomass   coal    gas  hydro  nuclear   \\\n",
       "0 2015-12-31 00:30:00  40.00  26.935    2.042  4.213  6.064  0.999     7.681   \n",
       "1 2015-12-31 01:00:00  40.00  26.254    2.043  4.236  5.860  1.004     7.677   \n",
       "2 2015-12-31 01:30:00  45.00  25.443    2.043  4.191  5.332  1.003     7.679   \n",
       "3 2015-12-31 02:00:00  41.89  24.744    2.043  4.012  4.869  1.000     7.697   \n",
       "4 2015-12-31 02:30:00  42.00  24.196    2.044  3.899  4.279  0.998     7.705   \n",
       "\n",
       "   solar   wind  dutch  french  irish  pumped  SP  season  \n",
       "0    0.0  3.963  0.793   1.621 -0.044  -0.397   2       1  \n",
       "1    0.0  3.986  0.794   1.622  0.103  -1.071   3       1  \n",
       "2    0.0  4.172  0.806   1.621  0.001  -1.405   4       1  \n",
       "3    0.0  4.216  0.781   1.621 -0.093  -1.402   5       1  \n",
       "4    0.0  4.339  0.773   1.621 -0.063  -1.399   6       1  "
      ]
     },
     "execution_count": 6,
     "metadata": {},
     "output_type": "execute_result"
    }
   ],
   "source": [
    "s_season = df_DAM.datetime.dt.month.map(month_to_season)\n",
    "df_DAM['season'] = s_season\n",
    "\n",
    "df_DAM.head()"
   ]
  },
  {
   "cell_type": "markdown",
   "metadata": {},
   "source": [
    "<br>\n",
    "\n",
    "Due to a phenomena called the 'Merit Order Effect' the amount of renewables on the grid are likely to play a large role in the price of electricity. This is because renewables have very low operating costs so bid into the market at the bottom of the merit order stack.\n",
    "\n",
    "<img src='img/merit_order.png' width='800'>\n",
    "\n",
    "To help our model capture this information we'll create two new columns. One will be the amount of generation provided by 'dispatchable' resources (demand - intermittent renewables), the other will be the percentage of demand met by renewables."
   ]
  },
  {
   "cell_type": "code",
   "execution_count": 7,
   "metadata": {},
   "outputs": [
    {
     "data": {
      "text/html": [
       "<div>\n",
       "<style scoped>\n",
       "    .dataframe tbody tr th:only-of-type {\n",
       "        vertical-align: middle;\n",
       "    }\n",
       "\n",
       "    .dataframe tbody tr th {\n",
       "        vertical-align: top;\n",
       "    }\n",
       "\n",
       "    .dataframe thead th {\n",
       "        text-align: right;\n",
       "    }\n",
       "</style>\n",
       "<table border=\"1\" class=\"dataframe\">\n",
       "  <thead>\n",
       "    <tr style=\"text-align: right;\">\n",
       "      <th></th>\n",
       "      <th>datetime</th>\n",
       "      <th>price</th>\n",
       "      <th>demand</th>\n",
       "      <th>biomass</th>\n",
       "      <th>coal</th>\n",
       "      <th>gas</th>\n",
       "      <th>hydro</th>\n",
       "      <th>nuclear</th>\n",
       "      <th>solar</th>\n",
       "      <th>wind</th>\n",
       "      <th>dutch</th>\n",
       "      <th>french</th>\n",
       "      <th>irish</th>\n",
       "      <th>pumped</th>\n",
       "      <th>SP</th>\n",
       "      <th>season</th>\n",
       "      <th>disp_gen</th>\n",
       "      <th>pct_renew</th>\n",
       "    </tr>\n",
       "  </thead>\n",
       "  <tbody>\n",
       "    <tr>\n",
       "      <th>0</th>\n",
       "      <td>2015-12-31 00:30:00</td>\n",
       "      <td>40.00</td>\n",
       "      <td>26.935</td>\n",
       "      <td>2.042</td>\n",
       "      <td>4.213</td>\n",
       "      <td>6.064</td>\n",
       "      <td>0.999</td>\n",
       "      <td>7.681</td>\n",
       "      <td>0.0</td>\n",
       "      <td>3.963</td>\n",
       "      <td>0.793</td>\n",
       "      <td>1.621</td>\n",
       "      <td>-0.044</td>\n",
       "      <td>-0.397</td>\n",
       "      <td>2</td>\n",
       "      <td>1</td>\n",
       "      <td>22.972</td>\n",
       "      <td>0.147132</td>\n",
       "    </tr>\n",
       "    <tr>\n",
       "      <th>1</th>\n",
       "      <td>2015-12-31 01:00:00</td>\n",
       "      <td>40.00</td>\n",
       "      <td>26.254</td>\n",
       "      <td>2.043</td>\n",
       "      <td>4.236</td>\n",
       "      <td>5.860</td>\n",
       "      <td>1.004</td>\n",
       "      <td>7.677</td>\n",
       "      <td>0.0</td>\n",
       "      <td>3.986</td>\n",
       "      <td>0.794</td>\n",
       "      <td>1.622</td>\n",
       "      <td>0.103</td>\n",
       "      <td>-1.071</td>\n",
       "      <td>3</td>\n",
       "      <td>1</td>\n",
       "      <td>22.268</td>\n",
       "      <td>0.151824</td>\n",
       "    </tr>\n",
       "    <tr>\n",
       "      <th>2</th>\n",
       "      <td>2015-12-31 01:30:00</td>\n",
       "      <td>45.00</td>\n",
       "      <td>25.443</td>\n",
       "      <td>2.043</td>\n",
       "      <td>4.191</td>\n",
       "      <td>5.332</td>\n",
       "      <td>1.003</td>\n",
       "      <td>7.679</td>\n",
       "      <td>0.0</td>\n",
       "      <td>4.172</td>\n",
       "      <td>0.806</td>\n",
       "      <td>1.621</td>\n",
       "      <td>0.001</td>\n",
       "      <td>-1.405</td>\n",
       "      <td>4</td>\n",
       "      <td>1</td>\n",
       "      <td>21.271</td>\n",
       "      <td>0.163974</td>\n",
       "    </tr>\n",
       "    <tr>\n",
       "      <th>3</th>\n",
       "      <td>2015-12-31 02:00:00</td>\n",
       "      <td>41.89</td>\n",
       "      <td>24.744</td>\n",
       "      <td>2.043</td>\n",
       "      <td>4.012</td>\n",
       "      <td>4.869</td>\n",
       "      <td>1.000</td>\n",
       "      <td>7.697</td>\n",
       "      <td>0.0</td>\n",
       "      <td>4.216</td>\n",
       "      <td>0.781</td>\n",
       "      <td>1.621</td>\n",
       "      <td>-0.093</td>\n",
       "      <td>-1.402</td>\n",
       "      <td>5</td>\n",
       "      <td>1</td>\n",
       "      <td>20.528</td>\n",
       "      <td>0.170385</td>\n",
       "    </tr>\n",
       "    <tr>\n",
       "      <th>4</th>\n",
       "      <td>2015-12-31 02:30:00</td>\n",
       "      <td>42.00</td>\n",
       "      <td>24.196</td>\n",
       "      <td>2.044</td>\n",
       "      <td>3.899</td>\n",
       "      <td>4.279</td>\n",
       "      <td>0.998</td>\n",
       "      <td>7.705</td>\n",
       "      <td>0.0</td>\n",
       "      <td>4.339</td>\n",
       "      <td>0.773</td>\n",
       "      <td>1.621</td>\n",
       "      <td>-0.063</td>\n",
       "      <td>-1.399</td>\n",
       "      <td>6</td>\n",
       "      <td>1</td>\n",
       "      <td>19.857</td>\n",
       "      <td>0.179327</td>\n",
       "    </tr>\n",
       "  </tbody>\n",
       "</table>\n",
       "</div>"
      ],
      "text/plain": [
       "             datetime  price  demand  biomass   coal    gas  hydro  nuclear   \\\n",
       "0 2015-12-31 00:30:00  40.00  26.935    2.042  4.213  6.064  0.999     7.681   \n",
       "1 2015-12-31 01:00:00  40.00  26.254    2.043  4.236  5.860  1.004     7.677   \n",
       "2 2015-12-31 01:30:00  45.00  25.443    2.043  4.191  5.332  1.003     7.679   \n",
       "3 2015-12-31 02:00:00  41.89  24.744    2.043  4.012  4.869  1.000     7.697   \n",
       "4 2015-12-31 02:30:00  42.00  24.196    2.044  3.899  4.279  0.998     7.705   \n",
       "\n",
       "   solar   wind  dutch  french  irish  pumped  SP  season  disp_gen  pct_renew  \n",
       "0    0.0  3.963  0.793   1.621 -0.044  -0.397   2       1    22.972   0.147132  \n",
       "1    0.0  3.986  0.794   1.622  0.103  -1.071   3       1    22.268   0.151824  \n",
       "2    0.0  4.172  0.806   1.621  0.001  -1.405   4       1    21.271   0.163974  \n",
       "3    0.0  4.216  0.781   1.621 -0.093  -1.402   5       1    20.528   0.170385  \n",
       "4    0.0  4.339  0.773   1.621 -0.063  -1.399   6       1    19.857   0.179327  "
      ]
     },
     "execution_count": 7,
     "metadata": {},
     "output_type": "execute_result"
    }
   ],
   "source": [
    "df_DAM['disp_gen'] = df_DAM['demand'] - ( df_DAM['solar'] + df_DAM['wind'] )\n",
    "df_DAM['pct_renew'] = ( df_DAM['solar'] + df_DAM['wind'] ) / df_DAM['demand']\n",
    "\n",
    "df_DAM.head()"
   ]
  },
  {
   "cell_type": "markdown",
   "metadata": {},
   "source": [
    "<br>\n",
    "\n",
    "### Data Pre-Processing\n",
    "\n",
    "Now we've created the features for the machine learning (ML) model we need to prepare the data so that it's in the correct format.\n",
    "\n",
    "<br>\n",
    "\n",
    "One of the things sklearn won't accept is any NaN values. We can check there are none using df.isnull() and then using sum to count up all the true values.\n",
    "\n",
    "In this case we have no NaN values but when we do we need to decide how to handle them, the main choice is whether to drop the data or if you'll 'impute' it in."
   ]
  },
  {
   "cell_type": "code",
   "execution_count": 8,
   "metadata": {},
   "outputs": [
    {
     "data": {
      "text/plain": [
       "datetime     0\n",
       "price        0\n",
       "demand       0\n",
       "biomass      0\n",
       "coal         0\n",
       "gas          0\n",
       "hydro        0\n",
       "nuclear      0\n",
       "solar        0\n",
       "wind         0\n",
       "dutch        0\n",
       "french       0\n",
       "irish        0\n",
       "pumped       0\n",
       "SP           0\n",
       "season       0\n",
       "disp_gen     0\n",
       "pct_renew    0\n",
       "dtype: int64"
      ]
     },
     "execution_count": 8,
     "metadata": {},
     "output_type": "execute_result"
    }
   ],
   "source": [
    "df_DAM.isnull().sum()"
   ]
  },
  {
   "cell_type": "markdown",
   "metadata": {},
   "source": [
    "<br>\n",
    "\n",
    "When you do have missing data that's in a time series format one of the best approaches is to use s.interpolate() which takes the mean of the known values around it, other common methods are s.ffill() and s.bfill() which forward and backfill.\n",
    "\n",
    "When you're not working with time series data things become a bit more complicated, one approach is to fill in missing values with the mean of the column, if possible (you have enough data) it is often best to simply drop NaN values using df.dropna()."
   ]
  },
  {
   "cell_type": "code",
   "execution_count": 9,
   "metadata": {},
   "outputs": [
    {
     "data": {
      "text/plain": [
       "0    1.0\n",
       "1    NaN\n",
       "2    NaN\n",
       "3    3.0\n",
       "dtype: float64"
      ]
     },
     "execution_count": 9,
     "metadata": {},
     "output_type": "execute_result"
    }
   ],
   "source": [
    "s = pd.Series([1, np.nan, np.nan, 3])\n",
    "s"
   ]
  },
  {
   "cell_type": "code",
   "execution_count": 10,
   "metadata": {},
   "outputs": [
    {
     "data": {
      "text/plain": [
       "0    1.000000\n",
       "1    1.666667\n",
       "2    2.333333\n",
       "3    3.000000\n",
       "dtype: float64"
      ]
     },
     "execution_count": 10,
     "metadata": {},
     "output_type": "execute_result"
    }
   ],
   "source": [
    "s.interpolate()"
   ]
  },
  {
   "cell_type": "code",
   "execution_count": 11,
   "metadata": {},
   "outputs": [
    {
     "data": {
      "text/plain": [
       "0    1.0\n",
       "1    3.0\n",
       "2    3.0\n",
       "3    3.0\n",
       "dtype: float64"
      ]
     },
     "execution_count": 11,
     "metadata": {},
     "output_type": "execute_result"
    }
   ],
   "source": [
    "s.bfill()"
   ]
  },
  {
   "cell_type": "code",
   "execution_count": 12,
   "metadata": {},
   "outputs": [
    {
     "data": {
      "text/plain": [
       "0    1.0\n",
       "1    2.0\n",
       "2    2.0\n",
       "3    3.0\n",
       "dtype: float64"
      ]
     },
     "execution_count": 12,
     "metadata": {},
     "output_type": "execute_result"
    }
   ],
   "source": [
    "mean_val = s.mean()\n",
    "s.fillna(mean_val)"
   ]
  },
  {
   "cell_type": "code",
   "execution_count": 25,
   "metadata": {},
   "outputs": [
    {
     "data": {
      "text/plain": [
       "0    1.0\n",
       "3    3.0\n",
       "dtype: float64"
      ]
     },
     "execution_count": 25,
     "metadata": {},
     "output_type": "execute_result"
    }
   ],
   "source": [
    "s.dropna()"
   ]
  },
  {
   "cell_type": "markdown",
   "metadata": {},
   "source": [
    "<br>\n",
    "\n",
    "The next step is to separate the X and y columns, then transform the dataframes into numpy arrays which will be accepted by sklearn, we can use df.values to do this."
   ]
  },
  {
   "cell_type": "code",
   "execution_count": 28,
   "metadata": {},
   "outputs": [
    {
     "data": {
      "text/plain": [
       "Index(['demand', 'biomass', 'coal', 'gas', 'hydro', 'nuclear ', 'solar',\n",
       "       'wind', 'dutch', 'french', 'irish', 'pumped', 'SP', 'season',\n",
       "       'disp_gen', 'pct_renew'],\n",
       "      dtype='object')"
      ]
     },
     "execution_count": 28,
     "metadata": {},
     "output_type": "execute_result"
    }
   ],
   "source": [
    "df_DAM.drop(columns=['price', 'datetime']).columns"
   ]
  },
  {
   "cell_type": "code",
   "execution_count": 31,
   "metadata": {},
   "outputs": [
    {
     "name": "stdout",
     "output_type": "stream",
     "text": [
      "(34895, 16)\n",
      "(34895,)\n"
     ]
    }
   ],
   "source": [
    "X_cols = df_DAM.drop(columns=['price', 'datetime']).columns\n",
    "y_col = 'price'\n",
    "\n",
    "X = df_DAM[X_cols].values \n",
    "y = df_DAM[y_col].values\n",
    "\n",
    "print(X.shape)\n",
    "print(y.shape)"
   ]
  },
  {
   "cell_type": "markdown",
   "metadata": {},
   "source": [
    "<br>\n",
    "\n",
    "Now comes one of the most important parts in data science, properly separating test and train data. This ensures that if your model is overfitting to the training data you can find out how it will fare against unseen data."
   ]
  },
  {
   "cell_type": "code",
   "execution_count": 32,
   "metadata": {},
   "outputs": [
    {
     "name": "stdout",
     "output_type": "stream",
     "text": [
      "(24426, 16)\n",
      "(10469, 16)\n"
     ]
    }
   ],
   "source": [
    "from sklearn.model_selection import train_test_split\n",
    "\n",
    "X_train, X_test, y_train, y_test = train_test_split(\n",
    "        X, y, test_size=0.3, random_state=42)\n",
    "\n",
    "print(X_train.shape)\n",
    "print(X_test.shape)"
   ]
  },
  {
   "cell_type": "markdown",
   "metadata": {},
   "source": [
    "<br>\n",
    "\n",
    "Feature normalisation is one technique in the data science (DS) toolkit which can help our algorithms produce better results.\n",
    "\n",
    "There are a number of ways in which this is useful, one of the most common is related to 'distance' metrics. For example in k-means clustering if one dimension has a scale 10x as large as another then the algorithm will in effect put 10x as much weight on that variable.\n",
    "\n",
    "MinMaxScaler scales the data so that the max value of each column is 1 and it's minimum is 0.\n",
    "\n",
    "StandardScaler sets the mean to 0 and the standard deviation to 1."
   ]
  },
  {
   "cell_type": "code",
   "execution_count": 37,
   "metadata": {},
   "outputs": [
    {
     "data": {
      "text/html": [
       "<div>\n",
       "<style scoped>\n",
       "    .dataframe tbody tr th:only-of-type {\n",
       "        vertical-align: middle;\n",
       "    }\n",
       "\n",
       "    .dataframe tbody tr th {\n",
       "        vertical-align: top;\n",
       "    }\n",
       "\n",
       "    .dataframe thead th {\n",
       "        text-align: right;\n",
       "    }\n",
       "</style>\n",
       "<table border=\"1\" class=\"dataframe\">\n",
       "  <thead>\n",
       "    <tr style=\"text-align: right;\">\n",
       "      <th></th>\n",
       "      <th>0</th>\n",
       "      <th>1</th>\n",
       "      <th>2</th>\n",
       "      <th>3</th>\n",
       "      <th>4</th>\n",
       "      <th>5</th>\n",
       "      <th>6</th>\n",
       "      <th>7</th>\n",
       "      <th>8</th>\n",
       "      <th>9</th>\n",
       "      <th>10</th>\n",
       "      <th>11</th>\n",
       "      <th>12</th>\n",
       "      <th>13</th>\n",
       "      <th>14</th>\n",
       "      <th>15</th>\n",
       "    </tr>\n",
       "  </thead>\n",
       "  <tbody>\n",
       "    <tr>\n",
       "      <th>count</th>\n",
       "      <td>24426.000000</td>\n",
       "      <td>24426.000000</td>\n",
       "      <td>24426.000000</td>\n",
       "      <td>24426.000000</td>\n",
       "      <td>24426.000000</td>\n",
       "      <td>24426.000000</td>\n",
       "      <td>24426.000000</td>\n",
       "      <td>24426.000000</td>\n",
       "      <td>24426.000000</td>\n",
       "      <td>24426.000000</td>\n",
       "      <td>24426.000000</td>\n",
       "      <td>24426.000000</td>\n",
       "      <td>24426.000000</td>\n",
       "      <td>24426.000000</td>\n",
       "      <td>24426.000000</td>\n",
       "      <td>24426.000000</td>\n",
       "    </tr>\n",
       "    <tr>\n",
       "      <th>mean</th>\n",
       "      <td>0.612821</td>\n",
       "      <td>0.629637</td>\n",
       "      <td>0.189165</td>\n",
       "      <td>0.528911</td>\n",
       "      <td>0.297422</td>\n",
       "      <td>0.851679</td>\n",
       "      <td>0.129034</td>\n",
       "      <td>0.331322</td>\n",
       "      <td>0.879824</td>\n",
       "      <td>0.742165</td>\n",
       "      <td>0.599929</td>\n",
       "      <td>0.499244</td>\n",
       "      <td>0.499876</td>\n",
       "      <td>0.495865</td>\n",
       "      <td>0.563474</td>\n",
       "      <td>0.113821</td>\n",
       "    </tr>\n",
       "    <tr>\n",
       "      <th>std</th>\n",
       "      <td>0.150984</td>\n",
       "      <td>0.192602</td>\n",
       "      <td>0.185439</td>\n",
       "      <td>0.187847</td>\n",
       "      <td>0.194213</td>\n",
       "      <td>0.072427</td>\n",
       "      <td>0.194328</td>\n",
       "      <td>0.211043</td>\n",
       "      <td>0.167454</td>\n",
       "      <td>0.281067</td>\n",
       "      <td>0.219069</td>\n",
       "      <td>0.178124</td>\n",
       "      <td>0.294412</td>\n",
       "      <td>0.499993</td>\n",
       "      <td>0.135015</td>\n",
       "      <td>0.063705</td>\n",
       "    </tr>\n",
       "    <tr>\n",
       "      <th>min</th>\n",
       "      <td>0.000000</td>\n",
       "      <td>0.000000</td>\n",
       "      <td>0.000000</td>\n",
       "      <td>0.000000</td>\n",
       "      <td>0.000000</td>\n",
       "      <td>0.000000</td>\n",
       "      <td>0.000000</td>\n",
       "      <td>0.000000</td>\n",
       "      <td>0.000000</td>\n",
       "      <td>0.000000</td>\n",
       "      <td>0.000000</td>\n",
       "      <td>0.000000</td>\n",
       "      <td>0.000000</td>\n",
       "      <td>0.000000</td>\n",
       "      <td>0.000000</td>\n",
       "      <td>0.000000</td>\n",
       "    </tr>\n",
       "    <tr>\n",
       "      <th>25%</th>\n",
       "      <td>0.495960</td>\n",
       "      <td>0.528324</td>\n",
       "      <td>0.043943</td>\n",
       "      <td>0.383733</td>\n",
       "      <td>0.138275</td>\n",
       "      <td>0.804267</td>\n",
       "      <td>0.000000</td>\n",
       "      <td>0.154321</td>\n",
       "      <td>0.864697</td>\n",
       "      <td>0.615520</td>\n",
       "      <td>0.449777</td>\n",
       "      <td>0.376881</td>\n",
       "      <td>0.255319</td>\n",
       "      <td>0.000000</td>\n",
       "      <td>0.458839</td>\n",
       "      <td>0.063842</td>\n",
       "    </tr>\n",
       "    <tr>\n",
       "      <th>50%</th>\n",
       "      <td>0.618472</td>\n",
       "      <td>0.727553</td>\n",
       "      <td>0.123450</td>\n",
       "      <td>0.526914</td>\n",
       "      <td>0.262295</td>\n",
       "      <td>0.861723</td>\n",
       "      <td>0.005269</td>\n",
       "      <td>0.297891</td>\n",
       "      <td>0.959028</td>\n",
       "      <td>0.860476</td>\n",
       "      <td>0.634487</td>\n",
       "      <td>0.575031</td>\n",
       "      <td>0.489362</td>\n",
       "      <td>0.000000</td>\n",
       "      <td>0.556835</td>\n",
       "      <td>0.106837</td>\n",
       "    </tr>\n",
       "    <tr>\n",
       "      <th>75%</th>\n",
       "      <td>0.716665</td>\n",
       "      <td>0.792678</td>\n",
       "      <td>0.285155</td>\n",
       "      <td>0.669681</td>\n",
       "      <td>0.424804</td>\n",
       "      <td>0.902698</td>\n",
       "      <td>0.213058</td>\n",
       "      <td>0.470442</td>\n",
       "      <td>0.969509</td>\n",
       "      <td>0.977880</td>\n",
       "      <td>0.758371</td>\n",
       "      <td>0.601057</td>\n",
       "      <td>0.744681</td>\n",
       "      <td>1.000000</td>\n",
       "      <td>0.651018</td>\n",
       "      <td>0.155036</td>\n",
       "    </tr>\n",
       "    <tr>\n",
       "      <th>max</th>\n",
       "      <td>1.000000</td>\n",
       "      <td>1.000000</td>\n",
       "      <td>1.000000</td>\n",
       "      <td>1.000000</td>\n",
       "      <td>1.000000</td>\n",
       "      <td>1.000000</td>\n",
       "      <td>1.000000</td>\n",
       "      <td>1.000000</td>\n",
       "      <td>1.000000</td>\n",
       "      <td>1.000000</td>\n",
       "      <td>1.000000</td>\n",
       "      <td>1.000000</td>\n",
       "      <td>1.000000</td>\n",
       "      <td>1.000000</td>\n",
       "      <td>1.000000</td>\n",
       "      <td>1.000000</td>\n",
       "    </tr>\n",
       "  </tbody>\n",
       "</table>\n",
       "</div>"
      ],
      "text/plain": [
       "                 0             1             2             3             4   \\\n",
       "count  24426.000000  24426.000000  24426.000000  24426.000000  24426.000000   \n",
       "mean       0.612821      0.629637      0.189165      0.528911      0.297422   \n",
       "std        0.150984      0.192602      0.185439      0.187847      0.194213   \n",
       "min        0.000000      0.000000      0.000000      0.000000      0.000000   \n",
       "25%        0.495960      0.528324      0.043943      0.383733      0.138275   \n",
       "50%        0.618472      0.727553      0.123450      0.526914      0.262295   \n",
       "75%        0.716665      0.792678      0.285155      0.669681      0.424804   \n",
       "max        1.000000      1.000000      1.000000      1.000000      1.000000   \n",
       "\n",
       "                 5             6             7             8             9   \\\n",
       "count  24426.000000  24426.000000  24426.000000  24426.000000  24426.000000   \n",
       "mean       0.851679      0.129034      0.331322      0.879824      0.742165   \n",
       "std        0.072427      0.194328      0.211043      0.167454      0.281067   \n",
       "min        0.000000      0.000000      0.000000      0.000000      0.000000   \n",
       "25%        0.804267      0.000000      0.154321      0.864697      0.615520   \n",
       "50%        0.861723      0.005269      0.297891      0.959028      0.860476   \n",
       "75%        0.902698      0.213058      0.470442      0.969509      0.977880   \n",
       "max        1.000000      1.000000      1.000000      1.000000      1.000000   \n",
       "\n",
       "                 10            11            12            13            14  \\\n",
       "count  24426.000000  24426.000000  24426.000000  24426.000000  24426.000000   \n",
       "mean       0.599929      0.499244      0.499876      0.495865      0.563474   \n",
       "std        0.219069      0.178124      0.294412      0.499993      0.135015   \n",
       "min        0.000000      0.000000      0.000000      0.000000      0.000000   \n",
       "25%        0.449777      0.376881      0.255319      0.000000      0.458839   \n",
       "50%        0.634487      0.575031      0.489362      0.000000      0.556835   \n",
       "75%        0.758371      0.601057      0.744681      1.000000      0.651018   \n",
       "max        1.000000      1.000000      1.000000      1.000000      1.000000   \n",
       "\n",
       "                 15  \n",
       "count  24426.000000  \n",
       "mean       0.113821  \n",
       "std        0.063705  \n",
       "min        0.000000  \n",
       "25%        0.063842  \n",
       "50%        0.106837  \n",
       "75%        0.155036  \n",
       "max        1.000000  "
      ]
     },
     "execution_count": 37,
     "metadata": {},
     "output_type": "execute_result"
    }
   ],
   "source": [
    "from sklearn.preprocessing import MinMaxScaler\n",
    "from sklearn.preprocessing import StandardScaler\n",
    "\n",
    "scaler = MinMaxScaler()\n",
    "scaler.fit(X_train)\n",
    "\n",
    "X_train_scaled = scaler.transform(X_train)\n",
    "X_test_scaled = scaler.transform(X_test)\n",
    "\n",
    "pd.DataFrame(X_train_scaled).describe()"
   ]
  },
  {
   "cell_type": "markdown",
   "metadata": {},
   "source": [
    "<br>\n",
    "\n",
    "### Running the Model!\n",
    "\n",
    "One of Scikit Learn's strengths is it's relatively simple API, we can use the same process for a range of ML model types.\n",
    "\n",
    "<img src='img/sklearn_API.png' width='500'>\n",
    "\n",
    "We'll first do a multivariate linear regression model."
   ]
  },
  {
   "cell_type": "code",
   "execution_count": 38,
   "metadata": {},
   "outputs": [],
   "source": [
    "from sklearn.linear_model import LinearRegression\n",
    "\n",
    "lr = LinearRegression()               # Instantiate the model\n",
    "lr.fit(X_train_scaled, y_train)       # Fit the model to the training data\n",
    "y_pred = lr.predict(X_test_scaled)    # Make predictions using the model on the test data"
   ]
  },
  {
   "cell_type": "markdown",
   "metadata": {},
   "source": [
    "<br>\n",
    "\n",
    "Evaluating the model is done using the r2 score by default"
   ]
  },
  {
   "cell_type": "code",
   "execution_count": 39,
   "metadata": {},
   "outputs": [
    {
     "name": "stdout",
     "output_type": "stream",
     "text": [
      "R2 score: 0.17487511312513437\n"
     ]
    }
   ],
   "source": [
    "sum_of_squares = ((y_test - y_pred) ** 2).sum()\n",
    "res_sum_of_squares = ((y_test - y_test.mean()) ** 2).sum()\n",
    "r2_score = 1 - (sum_of_squares / res_sum_of_squares)\n",
    "\n",
    "print(f'R2 score: {r2_score}')"
   ]
  },
  {
   "cell_type": "code",
   "execution_count": 40,
   "metadata": {},
   "outputs": [
    {
     "name": "stdout",
     "output_type": "stream",
     "text": [
      "R2 score: 0.17487511312513437\n"
     ]
    }
   ],
   "source": [
    "model_score = lr.score(X_test_scaled, y_test)\n",
    "print(f'R2 score: {model_score}')"
   ]
  },
  {
   "cell_type": "markdown",
   "metadata": {},
   "source": [
    "<br>\n",
    "\n",
    "We can look at other scoring measures using sklearns metrics module."
   ]
  },
  {
   "cell_type": "code",
   "execution_count": 41,
   "metadata": {},
   "outputs": [
    {
     "name": "stdout",
     "output_type": "stream",
     "text": [
      "MAE: 9.086932696441671\n",
      "MSE: 691.0908825032332\n"
     ]
    }
   ],
   "source": [
    "from sklearn.metrics import mean_absolute_error, mean_squared_error\n",
    "\n",
    "mae = mean_absolute_error(y_test, y_pred)\n",
    "mse = mean_squared_error(y_test, y_pred)\n",
    "\n",
    "print(f'MAE: {mae}')\n",
    "print(f'MSE: {mse}')"
   ]
  },
  {
   "cell_type": "markdown",
   "metadata": {},
   "source": [
    "<br>\n",
    "\n",
    "Comparing the absolute and squared error it appears as though the model is unable to handle some of the more extreme values.\n",
    "\n",
    "We can check this by plotting the error distribution and a separate scatter plot to let us know where the errors are occuring."
   ]
  },
  {
   "cell_type": "code",
   "execution_count": 42,
   "metadata": {},
   "outputs": [
    {
     "data": {
      "text/plain": [
       "<matplotlib.axes._subplots.AxesSubplot at 0x12accc43978>"
      ]
     },
     "execution_count": 42,
     "metadata": {},
     "output_type": "execute_result"
    },
    {
     "data": {
      "image/png": "[encoded data removed]",
      "text/plain": [
       "<Figure size 432x288 with 1 Axes>"
      ]
     },
     "metadata": {},
     "output_type": "display_data"
    }
   ],
   "source": [
    "sns.distplot(y_test - y_pred)"
   ]
  },
  {
   "cell_type": "code",
   "execution_count": 43,
   "metadata": {},
   "outputs": [
    {
     "data": {
      "text/plain": [
       "(15, 55)"
      ]
     },
     "execution_count": 43,
     "metadata": {},
     "output_type": "execute_result"
    },
    {
     "data": {
      "image/png": "[encoded data removed]",
      "text/plain": [
       "<Figure size 1000x500 with 2 Axes>"
      ]
     },
     "metadata": {},
     "output_type": "display_data"
    }
   ],
   "source": [
    "x = X_test[:, 0]\n",
    "y = y_test\n",
    "c = y_test - y_pred\n",
    "\n",
    "## Plotting\n",
    "plt.figure(figsize=(10, 5), dpi=100)\n",
    "\n",
    "plt.scatter(x, y, c=c, s=5)\n",
    "plt.colorbar()\n",
    "\n",
    "plt.xlim(15, 55)"
   ]
  },
  {
   "cell_type": "markdown",
   "metadata": {},
   "source": [
    "<br>\n",
    "\n",
    "### Random Forest Model\n",
    "\n",
    "One of the most used models at the moment in ML is the random forest, it's an ensemble of individual decision trees.\n",
    "\n",
    "<img src='img/decision_tree.png' width='500'>"
   ]
  },
  {
   "cell_type": "code",
   "execution_count": 44,
   "metadata": {},
   "outputs": [],
   "source": [
    "from sklearn.ensemble import RandomForestRegressor\n",
    "\n",
    "rf = RandomForestRegressor(n_estimators=25)  \n",
    "rf.fit(X_train_scaled, y_train)       \n",
    "y_pred = rf.predict(X_test_scaled)    "
   ]
  },
  {
   "cell_type": "code",
   "execution_count": 45,
   "metadata": {},
   "outputs": [
    {
     "name": "stdout",
     "output_type": "stream",
     "text": [
      "R2 score: 0.6996334581756483\n",
      "MAE: 4.781037654026172\n",
      "MSE: 251.57473949190947\n"
     ]
    }
   ],
   "source": [
    "r2 = rf.score(X_test_scaled, y_test)\n",
    "mae = mean_absolute_error(y_test, y_pred)\n",
    "mse = mean_squared_error(y_test, y_pred)\n",
    "\n",
    "print(f'R2 score: {r2}')\n",
    "print(f'MAE: {mae}')\n",
    "print(f'MSE: {mse}')"
   ]
  },
  {
   "cell_type": "code",
   "execution_count": 46,
   "metadata": {},
   "outputs": [
    {
     "data": {
      "text/plain": [
       "(15, 55)"
      ]
     },
     "execution_count": 46,
     "metadata": {},
     "output_type": "execute_result"
    },
    {
     "data": {
      "image/png": "[encoded data removed]",
      "text/plain": [
       "<Figure size 1500x750 with 2 Axes>"
      ]
     },
     "metadata": {},
     "output_type": "display_data"
    }
   ],
   "source": [
    "x = X_test[:, 0]\n",
    "y = y_test\n",
    "c = y_test - y_pred\n",
    "\n",
    "df_pred = pd.DataFrame({'x':x, 'y':y, 'c':c})\n",
    "df_pred_filt = df_pred[df_pred.y<200]\n",
    "\n",
    "## Plotting\n",
    "plt.figure(figsize=(10, 5), dpi=150)\n",
    "\n",
    "plt.scatter(df_pred_filt.x, df_pred_filt.y, c=df_pred_filt.c, s=5, )\n",
    "plt.colorbar()\n",
    "\n",
    "plt.xlim(15, 55)"
   ]
  },
  {
   "cell_type": "markdown",
   "metadata": {},
   "source": [
    "<br>\n",
    "\n",
    "Feature importance is one of the ways in which random forest models can be explored, the importance is based on the number of decision nodes which use that feature."
   ]
  },
  {
   "cell_type": "code",
   "execution_count": 48,
   "metadata": {},
   "outputs": [
    {
     "data": {
      "text/plain": [
       "array([0.06345164, 0.06651208, 0.08990678, 0.12521   , 0.04459492,\n",
       "       0.04396061, 0.01907681, 0.03791889, 0.03211809, 0.06348096,\n",
       "       0.05686565, 0.16754522, 0.05455872, 0.01762676, 0.08419377,\n",
       "       0.03297913])"
      ]
     },
     "execution_count": 48,
     "metadata": {},
     "output_type": "execute_result"
    }
   ],
   "source": [
    "rf.feature_importances_"
   ]
  },
  {
   "cell_type": "code",
   "execution_count": 50,
   "metadata": {},
   "outputs": [
    {
     "data": {
      "text/html": [
       "<div>\n",
       "<style scoped>\n",
       "    .dataframe tbody tr th:only-of-type {\n",
       "        vertical-align: middle;\n",
       "    }\n",
       "\n",
       "    .dataframe tbody tr th {\n",
       "        vertical-align: top;\n",
       "    }\n",
       "\n",
       "    .dataframe thead th {\n",
       "        text-align: right;\n",
       "    }\n",
       "</style>\n",
       "<table border=\"1\" class=\"dataframe\">\n",
       "  <thead>\n",
       "    <tr style=\"text-align: right;\">\n",
       "      <th></th>\n",
       "      <th>feature</th>\n",
       "      <th>importance</th>\n",
       "    </tr>\n",
       "  </thead>\n",
       "  <tbody>\n",
       "    <tr>\n",
       "      <th>11</th>\n",
       "      <td>pumped</td>\n",
       "      <td>16.754522</td>\n",
       "    </tr>\n",
       "    <tr>\n",
       "      <th>3</th>\n",
       "      <td>gas</td>\n",
       "      <td>12.521000</td>\n",
       "    </tr>\n",
       "    <tr>\n",
       "      <th>2</th>\n",
       "      <td>coal</td>\n",
       "      <td>8.990678</td>\n",
       "    </tr>\n",
       "    <tr>\n",
       "      <th>14</th>\n",
       "      <td>disp_gen</td>\n",
       "      <td>8.419377</td>\n",
       "    </tr>\n",
       "    <tr>\n",
       "      <th>1</th>\n",
       "      <td>biomass</td>\n",
       "      <td>6.651208</td>\n",
       "    </tr>\n",
       "    <tr>\n",
       "      <th>9</th>\n",
       "      <td>french</td>\n",
       "      <td>6.348096</td>\n",
       "    </tr>\n",
       "    <tr>\n",
       "      <th>0</th>\n",
       "      <td>demand</td>\n",
       "      <td>6.345164</td>\n",
       "    </tr>\n",
       "    <tr>\n",
       "      <th>10</th>\n",
       "      <td>irish</td>\n",
       "      <td>5.686565</td>\n",
       "    </tr>\n",
       "    <tr>\n",
       "      <th>12</th>\n",
       "      <td>SP</td>\n",
       "      <td>5.455872</td>\n",
       "    </tr>\n",
       "    <tr>\n",
       "      <th>4</th>\n",
       "      <td>hydro</td>\n",
       "      <td>4.459492</td>\n",
       "    </tr>\n",
       "    <tr>\n",
       "      <th>5</th>\n",
       "      <td>nuclear</td>\n",
       "      <td>4.396061</td>\n",
       "    </tr>\n",
       "    <tr>\n",
       "      <th>7</th>\n",
       "      <td>wind</td>\n",
       "      <td>3.791889</td>\n",
       "    </tr>\n",
       "    <tr>\n",
       "      <th>15</th>\n",
       "      <td>pct_renew</td>\n",
       "      <td>3.297913</td>\n",
       "    </tr>\n",
       "    <tr>\n",
       "      <th>8</th>\n",
       "      <td>dutch</td>\n",
       "      <td>3.211809</td>\n",
       "    </tr>\n",
       "    <tr>\n",
       "      <th>6</th>\n",
       "      <td>solar</td>\n",
       "      <td>1.907681</td>\n",
       "    </tr>\n",
       "    <tr>\n",
       "      <th>13</th>\n",
       "      <td>season</td>\n",
       "      <td>1.762676</td>\n",
       "    </tr>\n",
       "  </tbody>\n",
       "</table>\n",
       "</div>"
      ],
      "text/plain": [
       "      feature  importance\n",
       "11     pumped   16.754522\n",
       "3         gas   12.521000\n",
       "2        coal    8.990678\n",
       "14   disp_gen    8.419377\n",
       "1     biomass    6.651208\n",
       "9      french    6.348096\n",
       "0      demand    6.345164\n",
       "10      irish    5.686565\n",
       "12         SP    5.455872\n",
       "4       hydro    4.459492\n",
       "5    nuclear     4.396061\n",
       "7        wind    3.791889\n",
       "15  pct_renew    3.297913\n",
       "8       dutch    3.211809\n",
       "6       solar    1.907681\n",
       "13     season    1.762676"
      ]
     },
     "execution_count": 50,
     "metadata": {},
     "output_type": "execute_result"
    }
   ],
   "source": [
    "importances = rf.feature_importances_\n",
    "df_importances = pd.DataFrame({'feature':X_cols, 'importance':importances*100})\n",
    "df_importances.sort_values('importance', ascending=False)"
   ]
  },
  {
   "cell_type": "markdown",
   "metadata": {},
   "source": [
    "<br>\n",
    "\n",
    "### Putting the Model Together"
   ]
  },
  {
   "cell_type": "code",
   "execution_count": 53,
   "metadata": {},
   "outputs": [
    {
     "name": "stdout",
     "output_type": "stream",
     "text": [
      "R2 score: 0.6475956490154511\n",
      "MAE: 4.449329169054441\n",
      "MSE: 173.96823511679088\n"
     ]
    }
   ],
   "source": [
    "def random_forest_model(df, X_cols, y_col):\n",
    "    ## Separating X and y values\n",
    "    X = df_DAM[X_cols].values \n",
    "    y = df_DAM[y_col].values\n",
    "    \n",
    "    ## Splitting test and training data\n",
    "    X_train, X_test, y_train, y_test = train_test_split(\n",
    "        X, y, test_size=0.1, random_state=42)\n",
    "    \n",
    "    ## Scaling data\n",
    "    scaler = MinMaxScaler()\n",
    "    scaler.fit(X_train)\n",
    "\n",
    "    X_train_scaled = scaler.transform(X_train)\n",
    "    X_test_scaled = scaler.transform(X_test)\n",
    "\n",
    "    ## Running the model\n",
    "    rf = RandomForestRegressor(n_estimators=25)  \n",
    "    rf.fit(X_train_scaled, y_train)       \n",
    "    y_pred = rf.predict(X_test_scaled)\n",
    "    \n",
    "    ## Calculating metrics\n",
    "    r2 = rf.score(X_test_scaled, y_test)\n",
    "    mae = mean_absolute_error(y_test, y_pred)\n",
    "    mse = mean_squared_error(y_test, y_pred)\n",
    "\n",
    "    print(f'R2 score: {r2}')\n",
    "    print(f'MAE: {mae}')\n",
    "    print(f'MSE: {mse}')\n",
    "    \n",
    "    return \n",
    "  \n",
    "## Defining input variables\n",
    "X_cols = df_DAM.drop(columns=['price', 'datetime']).columns\n",
    "\n",
    "y_col = 'price'\n",
    "    \n",
    "random_forest_model(df_DAM, X_cols, y_col)"
   ]
  },
  {
   "cell_type": "markdown",
   "metadata": {},
   "source": [
    "<br>\n",
    "\n",
    "### What Next?\n",
    "\n",
    "With this model:\n",
    "\n",
    "* Try out different hyper-parameters and feature engineering methods to see how the model's accuracy changes.\n",
    "* Try predicting something like the amount of pumped hydro used based on the other features.\n",
    "* Try out different models to a random forest"
   ]
  }
 ],
 "metadata": {
  "kernelspec": {
   "display_name": "Python 3",
   "language": "python",
   "name": "python3"
  },
  "language_info": {
   "codemirror_mode": {
    "name": "ipython",
    "version": 3
   },
   "file_extension": ".py",
   "mimetype": "text/x-python",
   "name": "python",
   "nbconvert_exporter": "python",
   "pygments_lexer": "ipython3",
   "version": "3.6.5"
  }
 },
 "nbformat": 4,
 "nbformat_minor": 2
}
